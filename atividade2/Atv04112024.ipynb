{
  "nbformat": 4,
  "nbformat_minor": 0,
  "metadata": {
    "colab": {
      "provenance": [],
      "authorship_tag": "ABX9TyMBftjBWeyI7HKUBwnCHYMo",
      "include_colab_link": true
    },
    "kernelspec": {
      "name": "python3",
      "display_name": "Python 3"
    },
    "language_info": {
      "name": "python"
    }
  },
  "cells": [
    {
      "cell_type": "markdown",
      "metadata": {
        "id": "view-in-github",
        "colab_type": "text"
      },
      "source": [
        "<a href=\"https://colab.research.google.com/github/geovanasiqueira/ENG_20242/blob/main/atividade2/atv04112024.ipynb\" target=\"_parent\"><img src=\"https://colab.research.google.com/assets/colab-badge.svg\" alt=\"Open In Colab\"/></a>"
      ]
    },
    {
      "cell_type": "code",
      "execution_count": null,
      "metadata": {
        "colab": {
          "base_uri": "https://localhost:8080/"
        },
        "id": "6YA_M99pu2lN",
        "outputId": "64dac8a8-acca-4357-d9f5-58bdcb399fab"
      },
      "outputs": [
        {
          "output_type": "stream",
          "name": "stdout",
          "text": [
            "1\n"
          ]
        }
      ],
      "source": [
        "#1 - Escreva uma função que receba uma lista de números como entrada e retorne a soma de todos os elementos da lista\n",
        "def soma_lista(lista):\n",
        "  soma = 0\n",
        "  for numero in lista:\n",
        "    soma += numero\n",
        "    return soma\n",
        "lista = [1, 2, 3, 4, 5, 6, 7, 15, 28]\n",
        "soma = soma_lista(lista)\n",
        "print(soma)"
      ]
    },
    {
      "cell_type": "code",
      "source": [
        "#2 - Crie uma função que receba uma lista como entrada e retorne a lista invertida, ou seja, a ordem dos elementos deve ser invertida.\n",
        "def inverter_lista(lista):\n",
        "  lista_invertida = lista[:: -1]\n",
        "  return lista_invertida\n",
        "lista = [1, 2, 8, 7]\n",
        "lista_invertida = inverter_lista(lista)\n",
        "print(lista_invertida)"
      ],
      "metadata": {
        "colab": {
          "base_uri": "https://localhost:8080/"
        },
        "id": "Z-hejvBsy9Jp",
        "outputId": "2df7a6e3-b8ef-452b-e81f-9c8f95f126dc"
      },
      "execution_count": null,
      "outputs": [
        {
          "output_type": "stream",
          "name": "stdout",
          "text": [
            "[7, 8, 2, 1]\n"
          ]
        }
      ]
    },
    {
      "cell_type": "code",
      "source": [
        "#3 - Escreva uma função que receba uma lista de números como entrada e retorne a média dos elementos da lista.\n",
        "def media_lista(lista):\n",
        "  soma = 0\n",
        "  for numero in lista:\n",
        "    soma += numero\n",
        "    media = soma / len(lista)\n",
        "    return media\n",
        "lista = [1, 6, 8, 16, 21]\n",
        "media = media_lista(lista)\n",
        "print(media)"
      ],
      "metadata": {
        "colab": {
          "base_uri": "https://localhost:8080/"
        },
        "id": "gFZOa0KCzZ5P",
        "outputId": "ba3eedfe-e2b6-42e8-ad71-5f3c6032fda3"
      },
      "execution_count": null,
      "outputs": [
        {
          "output_type": "stream",
          "name": "stdout",
          "text": [
            "0.2\n"
          ]
        }
      ]
    },
    {
      "cell_type": "code",
      "source": [
        "#4 - Crie uma função que receba uma lista de strings como entrada e retorne a lista contendo o tamanho de cada string.\n",
        "def tamanho_strings(lista):\n",
        "  tamanho = []\n",
        "  for string in lista:\n",
        "    tamanho.append(len(string))\n",
        "    return tamanho\n",
        "\n",
        "lista = [\"amora\", \"limão\", \"ameixa\"]\n",
        "tamanho = tamanho_strings(lista)\n",
        "print(tamanho)\n"
      ],
      "metadata": {
        "colab": {
          "base_uri": "https://localhost:8080/"
        },
        "id": "BCuW3Rgjz4rO",
        "outputId": "9142eefb-4139-4e10-ef30-b40a9b426e8f"
      },
      "execution_count": null,
      "outputs": [
        {
          "output_type": "stream",
          "name": "stdout",
          "text": [
            "[5]\n"
          ]
        }
      ]
    },
    {
      "cell_type": "code",
      "source": [
        "#5 - Escreva uma função que receba duas listas como entrada e retorne uma nova lista contendo apenas os elementos que são comuns a ambas as listas.\n",
        "def elementos_comuns(lista1, lista2):\n",
        "  comuns = []\n",
        "  for elemento in lista1:\n",
        "    if elemento in lista2:\n",
        "      comuns.append(elemento)\n",
        "      return comuns\n",
        "lista1 = [1, 5, 8, 15]\n",
        "lista2 = [5, 16, 21, 9]\n",
        "comuns = elementos_comuns(lista1, lista2)\n",
        "print(comuns)"
      ],
      "metadata": {
        "colab": {
          "base_uri": "https://localhost:8080/"
        },
        "id": "KSYI5Vr10mbe",
        "outputId": "c37f3e49-09cd-43be-a8c3-b3d1e9da0244"
      },
      "execution_count": null,
      "outputs": [
        {
          "output_type": "stream",
          "name": "stdout",
          "text": [
            "[5]\n"
          ]
        }
      ]
    },
    {
      "cell_type": "code",
      "source": [
        "#6 - Crie uma função que receba uma lista como entrada e retorne uma nova lista contendo apenas os elementos únicos (sem repetição) da lista original.\n",
        "def elementos_unicos(lista):\n",
        "  unicos = []\n",
        "  for elemento in lista:\n",
        "    if elemento not in unicos:\n",
        "      unicos.append(elemento)\n",
        "      return unicos\n",
        "      print(unicos)\n",
        "lista = [83, 25, 6, 6, 25, 6]\n",
        "unicos = elementos_unicos(lista)\n",
        "print(unicos)"
      ],
      "metadata": {
        "colab": {
          "base_uri": "https://localhost:8080/"
        },
        "id": "xlfAXAdx1P5p",
        "outputId": "f12f79a8-06bc-4c5a-e608-b4e6b8946ed6"
      },
      "execution_count": null,
      "outputs": [
        {
          "output_type": "stream",
          "name": "stdout",
          "text": [
            "[83]\n"
          ]
        }
      ]
    },
    {
      "cell_type": "code",
      "source": [
        "#7 - Escreva uma função que receba uma lista de números como entrada e retorne uma lista contendo apenas os números pares da lista original.\n",
        "def numeros_pares(lista):\n",
        "  pares = []\n",
        "  for numero in lista:\n",
        "    if numero % 2 == 0:\n",
        "      pares.append(numero)\n",
        "      return pares\n",
        "lista = [5, 8, 7, 15, 7]\n",
        "pares = numeros_pares(lista)\n",
        "print(pares)"
      ],
      "metadata": {
        "colab": {
          "base_uri": "https://localhost:8080/"
        },
        "id": "BkW3pre72E4p",
        "outputId": "8298c2ad-031d-4753-802d-d2fe6a456960"
      },
      "execution_count": null,
      "outputs": [
        {
          "output_type": "stream",
          "name": "stdout",
          "text": [
            "[8]\n"
          ]
        }
      ]
    },
    {
      "cell_type": "code",
      "source": [
        "#8 - Crie uma função que receba uma lista de números como entrada e retorne o maior elemento da lista\n",
        "def maior_elemento(lista):\n",
        "  maior = lista[0]\n",
        "  for numero in lista:\n",
        "    if numero > maior:\n",
        "      maior = numero\n",
        "      return maior\n",
        "lista = [8, 6, 7, 15, 3]\n",
        "maior = maior_elemento(lista)\n",
        "print(maior)"
      ],
      "metadata": {
        "colab": {
          "base_uri": "https://localhost:8080/"
        },
        "id": "Be7pJHj62oFo",
        "outputId": "c1af5729-7b35-4cea-86b3-760b71acbb49"
      },
      "execution_count": null,
      "outputs": [
        {
          "output_type": "stream",
          "name": "stdout",
          "text": [
            "15\n"
          ]
        }
      ]
    },
    {
      "cell_type": "code",
      "source": [
        "#9 - Escreva uma função que receba uma lista como entrada e retorne True se a lista estiver ordenada de forma crescente, e False caso contrário.\n",
        "def lista_ordenada(lista):\n",
        "  for i in range(len(lista) -1):\n",
        "    if lista[i] > lista[i + 1]:\n",
        "      return False\n",
        "      return True\n",
        "lista = [8, 32, 56, 7]\n",
        "ordenada = lista_ordenada(lista)\n",
        "print(ordenada)\n"
      ],
      "metadata": {
        "colab": {
          "base_uri": "https://localhost:8080/"
        },
        "id": "lxFyP0LF3sPQ",
        "outputId": "e4c9eda1-190c-4621-a1c1-024fc211109e"
      },
      "execution_count": null,
      "outputs": [
        {
          "output_type": "stream",
          "name": "stdout",
          "text": [
            "False\n"
          ]
        }
      ]
    },
    {
      "cell_type": "code",
      "source": [
        "#10 - Crie uma função que receba duas listas como entrada e retorne True se uma lista for subconjunto da outra, e False caso contrário.\n",
        "def lista_subconjunto(lista1, lista2):\n",
        "  for elemento in lista1:\n",
        "    if elemento not in lista2:\n",
        "      return False\n",
        "      return True\n",
        "lista1 = [1, 8, 6, 62]\n",
        "lista2 = [56, 21, 7, 6]\n",
        "subconjunto = lista_subconjunto(lista1, lista2)\n",
        "print(subconjunto)"
      ],
      "metadata": {
        "colab": {
          "base_uri": "https://localhost:8080/"
        },
        "id": "HY_ygng-4oB3",
        "outputId": "14fc8fd9-3318-45df-ecae-ba631aebe129"
      },
      "execution_count": null,
      "outputs": [
        {
          "output_type": "stream",
          "name": "stdout",
          "text": [
            "False\n"
          ]
        }
      ]
    }
  ]
}
