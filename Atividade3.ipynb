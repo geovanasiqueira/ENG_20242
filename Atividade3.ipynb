{
  "nbformat": 4,
  "nbformat_minor": 0,
  "metadata": {
    "colab": {
      "provenance": [],
      "authorship_tag": "ABX9TyN5Fuc8HxXwVIonVefMKceP",
      "include_colab_link": true
    },
    "kernelspec": {
      "name": "python3",
      "display_name": "Python 3"
    },
    "language_info": {
      "name": "python"
    }
  },
  "cells": [
    {
      "cell_type": "markdown",
      "metadata": {
        "id": "view-in-github",
        "colab_type": "text"
      },
      "source": [
        "<a href=\"https://colab.research.google.com/github/geovanasiqueira/ENG_20242/blob/main/Atividade3.ipynb\" target=\"_parent\"><img src=\"https://colab.research.google.com/assets/colab-badge.svg\" alt=\"Open In Colab\"/></a>"
      ]
    },
    {
      "cell_type": "code",
      "execution_count": null,
      "metadata": {
        "colab": {
          "base_uri": "https://localhost:8080/"
        },
        "id": "1odFJr24O70k",
        "outputId": "a3851ee0-d54e-463d-e419-bba4a3c75e23"
      },
      "outputs": [
        {
          "output_type": "stream",
          "name": "stdout",
          "text": [
            "[1, 25, 225, 7921, 25]\n"
          ]
        }
      ],
      "source": [
        "#1 Dada uma lista de números inteiros, use uma função lambda para retornar uma lista com o quadrado de cada número.\n",
        "numeros = [1, 5, 15, 89, 5]\n",
        "quadrados = list(map(lambda x: x**2, numeros))\n",
        "print(quadrados)\n"
      ]
    },
    {
      "cell_type": "code",
      "source": [
        "#2 Dada uma lista de temperaturas em Celsius, use uma função lambda para convertê-las em Fahrenheit.\n",
        "temperaturas_celsius = [8, 20, 25, 99, -10]\n",
        "temperaturas_fahrenheit = list(map(lambda c: (c * 9/5) + 32, temperaturas_celsius))\n",
        "print(temperaturas_fahrenheit)"
      ],
      "metadata": {
        "colab": {
          "base_uri": "https://localhost:8080/"
        },
        "id": "5nkp4j89QCDO",
        "outputId": "3285b3b3-5929-43cc-ab69-f49f77bbae7a"
      },
      "execution_count": null,
      "outputs": [
        {
          "output_type": "stream",
          "name": "stdout",
          "text": [
            "[46.4, 68.0, 77.0, 210.2, 14.0]\n"
          ]
        }
      ]
    },
    {
      "cell_type": "code",
      "source": [
        "#3 Dada uma lista de palavras, use uma função lambda para retornar uma lista com o comprimento de cada palavra.\n",
        "palavras = [\"mitsuki\", \"maça\", \"potter\"]\n",
        "comprimentos = list(map(lambda p: len(p), palavras))\n",
        "print(comprimentos)\n"
      ],
      "metadata": {
        "colab": {
          "base_uri": "https://localhost:8080/"
        },
        "id": "wRf3DeuzQVUO",
        "outputId": "5452e878-2f14-4fbd-9305-8162e75d5545"
      },
      "execution_count": null,
      "outputs": [
        {
          "output_type": "stream",
          "name": "stdout",
          "text": [
            "[7, 4, 6]\n"
          ]
        }
      ]
    },
    {
      "cell_type": "code",
      "source": [
        "#4 Use uma função lambda para dobrar os valores de uma lista de inteiros\n",
        "numeros = [85, 9, 15, 7]\n",
        "dobrados = list(map(lambda x: x * 2, numeros))\n",
        "print(dobrados)"
      ],
      "metadata": {
        "colab": {
          "base_uri": "https://localhost:8080/"
        },
        "id": "eWUS7NUMRory",
        "outputId": "ff7424e6-3983-4182-ac0a-3ef098ba56a5"
      },
      "execution_count": null,
      "outputs": [
        {
          "output_type": "stream",
          "name": "stdout",
          "text": [
            "[170, 18, 30, 14]\n"
          ]
        }
      ]
    },
    {
      "cell_type": "code",
      "source": [
        "#5 Dada uma lista de nomes, use uma função lambda para adicionar o prefixo \"Sr./Sra.\" antes de cada nome.\n",
        "\n",
        "nomes = [\"Alicia\", \"Maria\", \"Anna\", \"Nicolly\", \"Josue\"]\n",
        "nomes_com_prefixo = list(map(lambda nome: \"Sr.\" + \" \" + nome if nome != \"Maria\" and nome != \"Ana\" else \"Sra.\" + \" \" + nome, nomes))\n",
        "print(nomes_com_prefixo)"
      ],
      "metadata": {
        "colab": {
          "base_uri": "https://localhost:8080/"
        },
        "id": "ZEvALAa0TbH2",
        "outputId": "3348187b-b6f1-4d42-8ec9-aa29677204ff"
      },
      "execution_count": null,
      "outputs": [
        {
          "output_type": "stream",
          "name": "stdout",
          "text": [
            "['Sr. Alicia', 'Sra. Maria', 'Sr. Anna', 'Sr. Nicolly', 'Sr. Josue']\n"
          ]
        }
      ]
    },
    {
      "cell_type": "code",
      "source": [
        "#6 Dada uma lista de números, use uma função lambda para retornar apenas os números pares.\n",
        "numeros = [10, 15, 82, 7, 3]\n",
        "numeros_pares = list(filter(lambda x: x % 2 == 0, numeros))\n",
        "print(numeros_pares)"
      ],
      "metadata": {
        "colab": {
          "base_uri": "https://localhost:8080/"
        },
        "id": "OAVYWTLHV_Yf",
        "outputId": "81f9a420-7eeb-4299-cc12-2cc69a2f0727"
      },
      "execution_count": null,
      "outputs": [
        {
          "output_type": "stream",
          "name": "stdout",
          "text": [
            "[10, 82]\n"
          ]
        }
      ]
    },
    {
      "cell_type": "code",
      "source": [
        "#7 Dada uma lista de palavras, use uma função lambda para retornar apenas as palavras com menos de 5 caracteres.\n",
        "palavras = [\"lua\", \"chocolate\", \"sorvete\"]\n",
        "palavras_curta = list(filter(lambda p: len(p) < 5, palavras))\n",
        "print(palavras_curta)"
      ],
      "metadata": {
        "colab": {
          "base_uri": "https://localhost:8080/"
        },
        "id": "LH4zaomeWcBm",
        "outputId": "4a2f1951-e7f3-4c0c-9371-35869a37cd3e"
      },
      "execution_count": null,
      "outputs": [
        {
          "output_type": "stream",
          "name": "stdout",
          "text": [
            "['lua']\n"
          ]
        }
      ]
    },
    {
      "cell_type": "code",
      "source": [
        "#8 Dada uma lista de idades, use uma função lambda para retornar apenas as idades maiores que 18.\n",
        "idades = [18, 6, 15, 21, 38]\n",
        "idades_maiores_que_18 = list(filter(lambda x: x > 18, idades))\n",
        "print(idades_maiores_que_18)"
      ],
      "metadata": {
        "colab": {
          "base_uri": "https://localhost:8080/"
        },
        "id": "83fZQJwzXqZ7",
        "outputId": "f9d972a2-b21f-41be-f460-b2f45f57945a"
      },
      "execution_count": null,
      "outputs": [
        {
          "output_type": "stream",
          "name": "stdout",
          "text": [
            "[21, 38]\n"
          ]
        }
      ]
    },
    {
      "cell_type": "code",
      "source": [
        "#9 Dada uma lista de strings, use uma função lambda para retornar as strings que começam com a letra \"a\".\n",
        "strings = [\"laranja\", \"algodão\", \"esmalte\", \"uva\"]\n",
        "strings_com_a = list(filter(lambda s: s.startswith('a'), strings))\n",
        "print(strings_com_a)\n"
      ],
      "metadata": {
        "colab": {
          "base_uri": "https://localhost:8080/"
        },
        "id": "518dhZElYKZH",
        "outputId": "7425563d-2ea8-4fe8-dcfa-7b8b0196acc9"
      },
      "execution_count": null,
      "outputs": [
        {
          "output_type": "stream",
          "name": "stdout",
          "text": [
            "['algodão']\n"
          ]
        }
      ]
    },
    {
      "cell_type": "code",
      "source": [
        "#10 Dada uma lista de números inteiros, use uma função lambda para retornar apenas os números positivos.\n",
        "numeros = [15, 26, 8, 16, -3]\n",
        "numeros_positivos = list(filter(lambda x: x > 0, numeros))\n",
        "print(numeros_positivos)"
      ],
      "metadata": {
        "colab": {
          "base_uri": "https://localhost:8080/"
        },
        "id": "TcMTdh95YfI0",
        "outputId": "a7b1e29b-71d8-4be2-b376-b6e5409cc2b5"
      },
      "execution_count": null,
      "outputs": [
        {
          "output_type": "stream",
          "name": "stdout",
          "text": [
            "[15, 26, 8, 16]\n"
          ]
        }
      ]
    },
    {
      "cell_type": "code",
      "source": [
        "#11 Use uma função lambda para calcular a soma de uma lista de números.\n",
        "numeros = [15, 26, 8, 16]\n",
        "soma = sum(numeros)\n",
        "print(soma)"
      ],
      "metadata": {
        "colab": {
          "base_uri": "https://localhost:8080/"
        },
        "id": "q4x36IXpaz9M",
        "outputId": "0855cb9b-3d2d-4d73-b961-e570e174765e"
      },
      "execution_count": null,
      "outputs": [
        {
          "output_type": "stream",
          "name": "stdout",
          "text": [
            "65\n"
          ]
        }
      ]
    },
    {
      "cell_type": "markdown",
      "source": [],
      "metadata": {
        "id": "YTDIoU1ecsL6"
      }
    },
    {
      "cell_type": "code",
      "source": [
        "#12 Use uma função lambda para multiplicar todos os elementos de uma lista.\n",
        "numeros = [8, 12, 11, 6]\n",
        "multiplicacao = 1\n",
        "for numero in numeros:\n",
        "    multiplicacao *= numero\n",
        "    print(multiplicacao)\n"
      ],
      "metadata": {
        "colab": {
          "base_uri": "https://localhost:8080/"
        },
        "id": "T9WQ-MdSck8k",
        "outputId": "3d2ff0a3-1567-4784-b999-c65137aa4787"
      },
      "execution_count": null,
      "outputs": [
        {
          "output_type": "stream",
          "name": "stdout",
          "text": [
            "8\n",
            "96\n",
            "1056\n",
            "6336\n"
          ]
        }
      ]
    },
    {
      "cell_type": "code",
      "source": [
        "#13 Use uma função lambda para encontrar o maior número em uma lista\n",
        "numeros = [9, 16, 13, 7]\n",
        "maior_numero = max(numeros)\n",
        "print(maior_numero)"
      ],
      "metadata": {
        "colab": {
          "base_uri": "https://localhost:8080/"
        },
        "id": "he29FQpFdYJV",
        "outputId": "0c35bdfe-8986-4713-e3e7-47e38af7788b"
      },
      "execution_count": null,
      "outputs": [
        {
          "output_type": "stream",
          "name": "stdout",
          "text": [
            "16\n"
          ]
        }
      ]
    },
    {
      "cell_type": "code",
      "source": [
        "#14 Use uma função lambda para concatenar uma lista de palavras em uma única string separada por espaços.\n",
        "palavras = [\"Eu\", \"gosto\", \"de\", \"programar\"]\n",
        "frase = \" \".join (palavras)\n",
        "print(frase)"
      ],
      "metadata": {
        "id": "xpUsVk6ldqa4",
        "colab": {
          "base_uri": "https://localhost:8080/"
        },
        "outputId": "63857929-f1a6-4b8f-aa30-aaa076d20b82"
      },
      "execution_count": 1,
      "outputs": [
        {
          "output_type": "stream",
          "name": "stdout",
          "text": [
            "Eu gosto de programar\n"
          ]
        }
      ]
    },
    {
      "cell_type": "code",
      "source": [
        "#15 Use uma função lambda para somar os dígitos de uma lista de inteiros, onde cada número é tratado individualmente.\n",
        "numeros = [19, 456, 77]\n",
        "soma_digitos = sum(map(lambda num: sum(int(digito) for digito in str(num)), numeros))\n",
        "print(soma_digitos)"
      ],
      "metadata": {
        "colab": {
          "base_uri": "https://localhost:8080/"
        },
        "id": "xd2ZRnHskK8J",
        "outputId": "0978e785-61bb-452f-dac1-2b5a4915a83c"
      },
      "execution_count": 2,
      "outputs": [
        {
          "output_type": "stream",
          "name": "stdout",
          "text": [
            "39\n"
          ]
        }
      ]
    },
    {
      "cell_type": "code",
      "source": [
        "#16 Use uma função lambda para dobrar os números de uma lista e retornar apenas os números que são maiores que 20\n",
        "numeros = [5, 10, 15, 20, 25, 30]\n",
        "resultado = list(filter(lambda x: x > 20, map(lambda x: x * 2, numeros)))\n",
        "print(resultado)"
      ],
      "metadata": {
        "colab": {
          "base_uri": "https://localhost:8080/"
        },
        "id": "EUW4Wip-kgYe",
        "outputId": "a98fff35-d8ab-4721-8ec5-3277ddf16c3b"
      },
      "execution_count": 3,
      "outputs": [
        {
          "output_type": "stream",
          "name": "stdout",
          "text": [
            "[30, 40, 50, 60]\n"
          ]
        }
      ]
    },
    {
      "cell_type": "code",
      "source": [
        "#17 Dada uma lista de palavras, use uma função lambda para encontrar todas as palavras que contêm a letra \"e\" e conte quantas são.\n",
        "palavras = [\"cachorro\", \"elefante\", \"gato\", \"eletrônico\", \"pato\", \"abacaxi\"]\n",
        "palavras_com_e = list(filter(lambda palavra: 'e' in palavra, palavras))\n",
        "quantidade = len(palavras_com_e)\n",
        "print(quantidade)"
      ],
      "metadata": {
        "colab": {
          "base_uri": "https://localhost:8080/"
        },
        "id": "QozOsuFpkvZE",
        "outputId": "ea2720b0-42e8-4f22-f1e4-c0dd6c12aa53"
      },
      "execution_count": 4,
      "outputs": [
        {
          "output_type": "stream",
          "name": "stdout",
          "text": [
            "2\n"
          ]
        }
      ]
    },
    {
      "cell_type": "code",
      "source": [
        "#18 Converta uma lista de temperaturas de Fahrenheit para Celsius usando uma função lambda e, em seguida, retorne apenas as temperaturas abaixo de 20°C.\n",
        "temperaturas_fahrenheit = [32, 45, 50, 68, 77, 90, 104]\n",
        "temperaturas_celsius = list(map(lambda f: (f - 32) * 5 / 9, temperaturas_fahrenheit))\n",
        "temperaturas_abaixo_20 = list(filter(lambda c: c < 20, temperaturas_celsius))\n",
        "print(f\"Temperaturas em Celsius abaixo de 20°C: {temperaturas_abaixo_20}\")\n"
      ],
      "metadata": {
        "colab": {
          "base_uri": "https://localhost:8080/"
        },
        "id": "jYo1AhWElSam",
        "outputId": "74118d53-8492-42df-f0e9-74cd0c5cde7a"
      },
      "execution_count": 5,
      "outputs": [
        {
          "output_type": "stream",
          "name": "stdout",
          "text": [
            "Temperaturas em Celsius abaixo de 20°C: [0.0, 7.222222222222222, 10.0]\n"
          ]
        }
      ]
    },
    {
      "cell_type": "code",
      "source": [
        "#19 Use uma função lambda para selecionar apenas os números pares de uma lista e, em seguida, somar esses números.\n",
        "numeros = [1, 2, 3, 4, 5, 6, 7, 8, 9, 10]\n",
        "numeros_pares = filter(lambda x: x % 2 == 0, numeros)\n",
        "soma_pares = sum(numeros_pares)\n",
        "print(f\"Soma dos números pares: {soma_pares}\")\n"
      ],
      "metadata": {
        "colab": {
          "base_uri": "https://localhost:8080/"
        },
        "id": "gL7B_sbhljYl",
        "outputId": "0369580a-559d-450f-9a8b-6bbc16d2de93"
      },
      "execution_count": 6,
      "outputs": [
        {
          "output_type": "stream",
          "name": "stdout",
          "text": [
            "Soma dos números pares: 30\n"
          ]
        }
      ]
    },
    {
      "cell_type": "code",
      "source": [
        "#20 Use uma função lambda para substituir números negativos de uma lista por 0 e manter os positivos.\n",
        "numeros = [-5, 3, -2, 8, -1, 7]\n",
        "numeros_modificados = list(map(lambda x: 0 if x < 0 else x, numeros))\n",
        "print(f\"Lista com números negativos substituídos por 0: {numeros_modificados}\")"
      ],
      "metadata": {
        "colab": {
          "base_uri": "https://localhost:8080/"
        },
        "id": "0AKGCfzFl4dA",
        "outputId": "d6af02c2-7157-49dc-af9c-2fb093989965"
      },
      "execution_count": 7,
      "outputs": [
        {
          "output_type": "stream",
          "name": "stdout",
          "text": [
            "Lista com números negativos substituídos por 0: [0, 3, 0, 8, 0, 7]\n"
          ]
        }
      ]
    },
    {
      "cell_type": "code",
      "source": [
        "#21 Use uma função lambda para retornar a lista de cubos de cada elemento em uma lista de números.\n",
        "numeros = [9, 2, 88, 77, 5]\n",
        "cubos = list(map(lambda x: x**3, numeros))\n",
        "print(f\"Lista de cubos: {cubos}\")"
      ],
      "metadata": {
        "colab": {
          "base_uri": "https://localhost:8080/"
        },
        "id": "VRf-SMpVmJ9v",
        "outputId": "3dff16cd-676f-4199-8cb1-5f7987d8be94"
      },
      "execution_count": 8,
      "outputs": [
        {
          "output_type": "stream",
          "name": "stdout",
          "text": [
            "Lista de cubos: [729, 8, 681472, 456533, 125]\n"
          ]
        }
      ]
    },
    {
      "cell_type": "code",
      "source": [
        "#22 Use uma função lambda para verificar se um número dado é primo (retornando True ou False).\n",
        "is_prime = lambda n: n > 1 and all(n % i != 0 for i in range(2, int(n**0.5) + 1))\n",
        "numeros = [88, 7, 5, 9, 10]\n",
        "resultados = {n: is_prime(n) for n in numeros}\n",
        "print(resultados)"
      ],
      "metadata": {
        "colab": {
          "base_uri": "https://localhost:8080/"
        },
        "id": "CLm0-KoxmcoO",
        "outputId": "3cbfa44f-9a2a-466c-d044-2c9fa4979415"
      },
      "execution_count": 9,
      "outputs": [
        {
          "output_type": "stream",
          "name": "stdout",
          "text": [
            "{88: False, 7: True, 5: True, 9: False, 10: False}\n"
          ]
        }
      ]
    },
    {
      "cell_type": "code",
      "source": [
        "#23 Use uma função lambda para dividir cada elemento de uma lista por 5 e retornar a nova lista.\n",
        "numeros = [10, 20, 30, 40, 50]\n",
        "resultado = list(map(lambda x: x / 5, numeros))\n",
        "print(f\"Lista após divisão por 5: {resultado}\")"
      ],
      "metadata": {
        "colab": {
          "base_uri": "https://localhost:8080/"
        },
        "id": "qBSbtvgKm3pj",
        "outputId": "9d9de13a-60c9-408f-fcde-0f5799c65ce2"
      },
      "execution_count": 10,
      "outputs": [
        {
          "output_type": "stream",
          "name": "stdout",
          "text": [
            "Lista após divisão por 5: [2.0, 4.0, 6.0, 8.0, 10.0]\n"
          ]
        }
      ]
    },
    {
      "cell_type": "code",
      "source": [
        "#24 Use uma função lambda para remover todas as vogais de uma string dada\n",
        "texto = \"exemplo de string com vogais\"\n",
        "resultado = ''.join(filter(lambda x: x not in 'aeiouAEIOU', texto))\n",
        "print(f\"Texto sem vogais: {resultado}\")"
      ],
      "metadata": {
        "colab": {
          "base_uri": "https://localhost:8080/"
        },
        "id": "sLnhmsxNnFsf",
        "outputId": "084cad87-5c3c-4c07-f6e5-c485d7176af5"
      },
      "execution_count": 11,
      "outputs": [
        {
          "output_type": "stream",
          "name": "stdout",
          "text": [
            "Texto sem vogais: xmpl d strng cm vgs\n"
          ]
        }
      ]
    },
    {
      "cell_type": "code",
      "source": [
        "#25 Use uma função lambda para converter todas as palavras em uma lista para letras maiúsculas.\n",
        "palavras = [\"python\", \"lambda\", \"função\", \"exemplo\"]\n",
        "palavras_maiusculas = list(map(lambda x: x.upper(), palavras))\n",
        "print(f\"Palavras em maiúsculas: {palavras_maiusculas}\")"
      ],
      "metadata": {
        "colab": {
          "base_uri": "https://localhost:8080/"
        },
        "id": "VMMbU33xndTu",
        "outputId": "2050d725-33c8-4f82-ee3c-3af54329d2ff"
      },
      "execution_count": 12,
      "outputs": [
        {
          "output_type": "stream",
          "name": "stdout",
          "text": [
            "Palavras em maiúsculas: ['PYTHON', 'LAMBDA', 'FUNÇÃO', 'EXEMPLO']\n"
          ]
        }
      ]
    },
    {
      "cell_type": "code",
      "source": [
        "#26 Use uma função lambda para retornar apenas os números negativos de uma lista de inteiros.\n",
        "numeros = [10, -3, 4, -7, 5, -2]\n",
        "numeros_negativos = list(filter(lambda x: x < 0, numeros))\n",
        "print(f\"Números negativos: {numeros_negativos}\")\n"
      ],
      "metadata": {
        "colab": {
          "base_uri": "https://localhost:8080/"
        },
        "id": "6wq5STVUntAB",
        "outputId": "893c481a-5378-44a7-e4de-64ed633cd25f"
      },
      "execution_count": 13,
      "outputs": [
        {
          "output_type": "stream",
          "name": "stdout",
          "text": [
            "Números negativos: [-3, -7, -2]\n"
          ]
        }
      ]
    },
    {
      "cell_type": "code",
      "source": [
        "#27 Use uma função lambda para converter todos os números de uma lista para seus valores absolutos.\n",
        "numeros = [-10, 5, -3, 8, -2]\n",
        "valores_absolutos = list(map(lambda x: abs(x), numeros))\n",
        "print(f\"Valores absolutos: {valores_absolutos}\")\n"
      ],
      "metadata": {
        "colab": {
          "base_uri": "https://localhost:8080/"
        },
        "id": "VP5yE3CRn5Zs",
        "outputId": "4964f531-6258-4b45-e008-caf976f1962c"
      },
      "execution_count": 14,
      "outputs": [
        {
          "output_type": "stream",
          "name": "stdout",
          "text": [
            "Valores absolutos: [10, 5, 3, 8, 2]\n"
          ]
        }
      ]
    },
    {
      "cell_type": "code",
      "source": [
        "#28 Use uma função lambda para retornar uma lista com o resto da divisão de cada elemento por 3.\n",
        "numeros = [10, 20, 30, 40, 50]\n",
        "resto_divisao_3 = list(map(lambda x: x % 3, numeros))\n",
        "print(f\"Resto da divisão por 3: {resto_divisao_3}\")\n"
      ],
      "metadata": {
        "colab": {
          "base_uri": "https://localhost:8080/"
        },
        "id": "JrhhmoymoF9A",
        "outputId": "d9cca590-43b6-4914-e671-23e5bae817d1"
      },
      "execution_count": 15,
      "outputs": [
        {
          "output_type": "stream",
          "name": "stdout",
          "text": [
            "Resto da divisão por 3: [1, 2, 0, 1, 2]\n"
          ]
        }
      ]
    },
    {
      "cell_type": "code",
      "source": [
        "#29 Dada uma lista de números, use uma função lambda para multiplicar cada elemento pelo seu índice.\n",
        "numeros = [10, 20, 30, 40, 50]\n",
        "resultado = list(map(lambda x: x[0] * x[1], enumerate(numeros)))\n",
        "print(f\"Resultado da multiplicação de cada número pelo seu índice: {resultado}\")\n"
      ],
      "metadata": {
        "colab": {
          "base_uri": "https://localhost:8080/"
        },
        "id": "dsc0GH1roRDr",
        "outputId": "eaa1b841-dc76-4550-f3d2-2e849f8f0930"
      },
      "execution_count": 16,
      "outputs": [
        {
          "output_type": "stream",
          "name": "stdout",
          "text": [
            "Resultado da multiplicação de cada número pelo seu índice: [0, 20, 60, 120, 200]\n"
          ]
        }
      ]
    },
    {
      "cell_type": "code",
      "source": [
        "#30 Use uma função lambda para verificar se uma palavra dada é um palíndromo (retornando True ou False).\n",
        "is_palindrome = lambda word: word == word[::-1]\n",
        "palavras = [\"radar\", \"python\", \"level\", \"palavra\"]\n",
        "resultados = {word: is_palindrome(word) for word in palavras}\n",
        "print(resultados)"
      ],
      "metadata": {
        "id": "7dKryxtPoowy",
        "outputId": "af88de8f-fc74-480a-af89-5363de826fd5",
        "colab": {
          "base_uri": "https://localhost:8080/"
        }
      },
      "execution_count": 17,
      "outputs": [
        {
          "output_type": "stream",
          "name": "stdout",
          "text": [
            "{'radar': True, 'python': False, 'level': True, 'palavra': False}\n"
          ]
        }
      ]
    }
  ]
}