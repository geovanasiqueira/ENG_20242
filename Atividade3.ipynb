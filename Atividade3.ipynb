{
  "nbformat": 4,
  "nbformat_minor": 0,
  "metadata": {
    "colab": {
      "provenance": [],
      "authorship_tag": "ABX9TyNyIBYFdu1tuVdzH1/ztAxZ",
      "include_colab_link": true
    },
    "kernelspec": {
      "name": "python3",
      "display_name": "Python 3"
    },
    "language_info": {
      "name": "python"
    }
  },
  "cells": [
    {
      "cell_type": "markdown",
      "metadata": {
        "id": "view-in-github",
        "colab_type": "text"
      },
      "source": [
        "<a href=\"https://colab.research.google.com/github/geovanasiqueira/ENG_20242/blob/main/Atividade3.ipynb\" target=\"_parent\"><img src=\"https://colab.research.google.com/assets/colab-badge.svg\" alt=\"Open In Colab\"/></a>"
      ]
    },
    {
      "cell_type": "code",
      "execution_count": 1,
      "metadata": {
        "colab": {
          "base_uri": "https://localhost:8080/"
        },
        "id": "1odFJr24O70k",
        "outputId": "a3851ee0-d54e-463d-e419-bba4a3c75e23"
      },
      "outputs": [
        {
          "output_type": "stream",
          "name": "stdout",
          "text": [
            "[1, 25, 225, 7921, 25]\n"
          ]
        }
      ],
      "source": [
        "#1 Dada uma lista de números inteiros, use uma função lambda para retornar uma lista com o quadrado de cada número.\n",
        "numeros = [1, 5, 15, 89, 5]\n",
        "quadrados = list(map(lambda x: x**2, numeros))\n",
        "print(quadrados)\n"
      ]
    },
    {
      "cell_type": "code",
      "source": [
        "#2 Dada uma lista de temperaturas em Celsius, use uma função lambda para convertê-las em Fahrenheit.\n",
        "temperaturas_celsius = [8, 20, 25, 99, -10]\n",
        "temperaturas_fahrenheit = list(map(lambda c: (c * 9/5) + 32, temperaturas_celsius))\n",
        "print(temperaturas_fahrenheit)"
      ],
      "metadata": {
        "colab": {
          "base_uri": "https://localhost:8080/"
        },
        "id": "5nkp4j89QCDO",
        "outputId": "3285b3b3-5929-43cc-ab69-f49f77bbae7a"
      },
      "execution_count": 2,
      "outputs": [
        {
          "output_type": "stream",
          "name": "stdout",
          "text": [
            "[46.4, 68.0, 77.0, 210.2, 14.0]\n"
          ]
        }
      ]
    },
    {
      "cell_type": "code",
      "source": [
        "#3 Dada uma lista de palavras, use uma função lambda para retornar uma lista com o comprimento de cada palavra.\n",
        "palavras = [\"mitsuki\", \"maça\", \"potter\"]\n",
        "comprimentos = list(map(lambda p: len(p), palavras))\n",
        "print(comprimentos)\n"
      ],
      "metadata": {
        "colab": {
          "base_uri": "https://localhost:8080/"
        },
        "id": "wRf3DeuzQVUO",
        "outputId": "5452e878-2f14-4fbd-9305-8162e75d5545"
      },
      "execution_count": 3,
      "outputs": [
        {
          "output_type": "stream",
          "name": "stdout",
          "text": [
            "[7, 4, 6]\n"
          ]
        }
      ]
    },
    {
      "cell_type": "code",
      "source": [
        "#4 Use uma função lambda para dobrar os valores de uma lista de inteiros\n",
        "numeros = [85, 9, 15, 7]\n",
        "dobrados = list(map(lambda x: x * 2, numeros))\n",
        "print(dobrados)"
      ],
      "metadata": {
        "colab": {
          "base_uri": "https://localhost:8080/"
        },
        "id": "eWUS7NUMRory",
        "outputId": "ff7424e6-3983-4182-ac0a-3ef098ba56a5"
      },
      "execution_count": 4,
      "outputs": [
        {
          "output_type": "stream",
          "name": "stdout",
          "text": [
            "[170, 18, 30, 14]\n"
          ]
        }
      ]
    },
    {
      "cell_type": "code",
      "source": [
        "#5 Dada uma lista de nomes, use uma função lambda para adicionar o prefixo \"Sr./Sra.\" antes de cada nome.\n",
        "\n",
        "nomes = [\"Alicia\", \"Maria\", \"Anna\", \"Nicolly\", \"Josue\"]\n",
        "nomes_com_prefixo = list(map(lambda nome: \"Sr.\" + \" \" + nome if nome != \"Maria\" and nome != \"Ana\" else \"Sra.\" + \" \" + nome, nomes))\n",
        "print(nomes_com_prefixo)"
      ],
      "metadata": {
        "colab": {
          "base_uri": "https://localhost:8080/"
        },
        "id": "ZEvALAa0TbH2",
        "outputId": "3348187b-b6f1-4d42-8ec9-aa29677204ff"
      },
      "execution_count": 5,
      "outputs": [
        {
          "output_type": "stream",
          "name": "stdout",
          "text": [
            "['Sr. Alicia', 'Sra. Maria', 'Sr. Anna', 'Sr. Nicolly', 'Sr. Josue']\n"
          ]
        }
      ]
    },
    {
      "cell_type": "code",
      "source": [
        "#6 Dada uma lista de números, use uma função lambda para retornar apenas os números pares.\n",
        "numeros = [10, 15, 82, 7, 3]\n",
        "numeros_pares = list(filter(lambda x: x % 2 == 0, numeros))\n",
        "print(numeros_pares)"
      ],
      "metadata": {
        "colab": {
          "base_uri": "https://localhost:8080/"
        },
        "id": "OAVYWTLHV_Yf",
        "outputId": "81f9a420-7eeb-4299-cc12-2cc69a2f0727"
      },
      "execution_count": 8,
      "outputs": [
        {
          "output_type": "stream",
          "name": "stdout",
          "text": [
            "[10, 82]\n"
          ]
        }
      ]
    },
    {
      "cell_type": "code",
      "source": [
        "#7 Dada uma lista de palavras, use uma função lambda para retornar apenas as palavras com menos de 5 caracteres.\n",
        "palavras = [\"lua\", \"chocolate\", \"sorvete\"]\n",
        "palavras_curta = list(filter(lambda p: len(p) < 5, palavras))\n",
        "print(palavras_curta)"
      ],
      "metadata": {
        "colab": {
          "base_uri": "https://localhost:8080/"
        },
        "id": "LH4zaomeWcBm",
        "outputId": "4a2f1951-e7f3-4c0c-9371-35869a37cd3e"
      },
      "execution_count": 9,
      "outputs": [
        {
          "output_type": "stream",
          "name": "stdout",
          "text": [
            "['lua']\n"
          ]
        }
      ]
    },
    {
      "cell_type": "code",
      "source": [
        "#8 Dada uma lista de idades, use uma função lambda para retornar apenas as idades maiores que 18.\n",
        "idades = [18, 6, 15, 21, 38]\n",
        "idades_maiores_que_18 = list(filter(lambda x: x > 18, idades))\n",
        "print(idades_maiores_que_18)"
      ],
      "metadata": {
        "colab": {
          "base_uri": "https://localhost:8080/"
        },
        "id": "83fZQJwzXqZ7",
        "outputId": "f9d972a2-b21f-41be-f460-b2f45f57945a"
      },
      "execution_count": 10,
      "outputs": [
        {
          "output_type": "stream",
          "name": "stdout",
          "text": [
            "[21, 38]\n"
          ]
        }
      ]
    },
    {
      "cell_type": "code",
      "source": [
        "#9 Dada uma lista de strings, use uma função lambda para retornar as strings que começam com a letra \"a\".\n",
        "strings = [\"laranja\", \"algodão\", \"esmalte\", \"uva\"]\n",
        "strings_com_a = list(filter(lambda s: s.startswith('a'), strings))\n",
        "print(strings_com_a)\n"
      ],
      "metadata": {
        "colab": {
          "base_uri": "https://localhost:8080/"
        },
        "id": "518dhZElYKZH",
        "outputId": "7425563d-2ea8-4fe8-dcfa-7b8b0196acc9"
      },
      "execution_count": 11,
      "outputs": [
        {
          "output_type": "stream",
          "name": "stdout",
          "text": [
            "['algodão']\n"
          ]
        }
      ]
    },
    {
      "cell_type": "code",
      "source": [
        "#10 Dada uma lista de números inteiros, use uma função lambda para retornar apenas os números positivos.\n",
        "numeros = [15, 26, 8, 16, -3]\n",
        "numeros_positivos = list(filter(lambda x: x > 0, numeros))\n",
        "print(numeros_positivos)"
      ],
      "metadata": {
        "colab": {
          "base_uri": "https://localhost:8080/"
        },
        "id": "TcMTdh95YfI0",
        "outputId": "a7b1e29b-71d8-4be2-b376-b6e5409cc2b5"
      },
      "execution_count": 14,
      "outputs": [
        {
          "output_type": "stream",
          "name": "stdout",
          "text": [
            "[15, 26, 8, 16]\n"
          ]
        }
      ]
    },
    {
      "cell_type": "code",
      "source": [
        "#11 Use uma função lambda para calcular a soma de uma lista de números.\n",
        "numeros = [15, 26, 8, 16]\n",
        "soma = sum(numeros)\n",
        "print(soma)"
      ],
      "metadata": {
        "colab": {
          "base_uri": "https://localhost:8080/"
        },
        "id": "q4x36IXpaz9M",
        "outputId": "0855cb9b-3d2d-4d73-b961-e570e174765e"
      },
      "execution_count": 26,
      "outputs": [
        {
          "output_type": "stream",
          "name": "stdout",
          "text": [
            "65\n"
          ]
        }
      ]
    },
    {
      "cell_type": "markdown",
      "source": [],
      "metadata": {
        "id": "YTDIoU1ecsL6"
      }
    },
    {
      "cell_type": "code",
      "source": [
        "#12 Use uma função lambda para multiplicar todos os elementos de uma lista.\n",
        "numeros = [8, 12, 11, 6]\n",
        "multiplicacao = 1\n",
        "for numero in numeros:\n",
        "    multiplicacao *= numero\n",
        "    print(multiplicacao)\n"
      ],
      "metadata": {
        "colab": {
          "base_uri": "https://localhost:8080/"
        },
        "id": "T9WQ-MdSck8k",
        "outputId": "3d2ff0a3-1567-4784-b999-c65137aa4787"
      },
      "execution_count": 28,
      "outputs": [
        {
          "output_type": "stream",
          "name": "stdout",
          "text": [
            "8\n",
            "96\n",
            "1056\n",
            "6336\n"
          ]
        }
      ]
    },
    {
      "cell_type": "code",
      "source": [
        "#13 Use uma função lambda para encontrar o maior número em uma lista\n",
        "numeros = [9, 16, 13, 7]\n",
        "maior_numero = max(numeros)\n",
        "print(maior_numero)"
      ],
      "metadata": {
        "colab": {
          "base_uri": "https://localhost:8080/"
        },
        "id": "he29FQpFdYJV",
        "outputId": "0c35bdfe-8986-4713-e3e7-47e38af7788b"
      },
      "execution_count": 29,
      "outputs": [
        {
          "output_type": "stream",
          "name": "stdout",
          "text": [
            "16\n"
          ]
        }
      ]
    },
    {
      "cell_type": "code",
      "source": [],
      "metadata": {
        "id": "xpUsVk6ldqa4"
      },
      "execution_count": null,
      "outputs": []
    }
  ]
}