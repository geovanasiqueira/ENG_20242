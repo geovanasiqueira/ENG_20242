{
  "nbformat": 4,
  "nbformat_minor": 0,
  "metadata": {
    "colab": {
      "provenance": [],
      "authorship_tag": "ABX9TyNqIyvF4///gVYAtauOHW02",
      "include_colab_link": true
    },
    "kernelspec": {
      "name": "python3",
      "display_name": "Python 3"
    },
    "language_info": {
      "name": "python"
    }
  },
  "cells": [
    {
      "cell_type": "markdown",
      "metadata": {
        "id": "view-in-github",
        "colab_type": "text"
      },
      "source": [
        "<a href=\"https://colab.research.google.com/github/geovanasiqueira/ENG_20242/blob/main/Atividade2/11.11.ipynb\" target=\"_parent\"><img src=\"https://colab.research.google.com/assets/colab-badge.svg\" alt=\"Open In Colab\"/></a>"
      ]
    },
    {
      "cell_type": "code",
      "execution_count": null,
      "metadata": {
        "colab": {
          "base_uri": "https://localhost:8080/"
        },
        "id": "2YiOM9q8vWwJ",
        "outputId": "1423cf9a-336c-4f9a-c8d6-6b3691bdbe0e"
      },
      "outputs": [
        {
          "output_type": "stream",
          "name": "stdout",
          "text": [
            "12\n"
          ]
        }
      ],
      "source": [
        "#função lambda simples,\n",
        "\n",
        "soma = lambda x,y:x+y\n",
        "print(soma(5,7))"
      ]
    },
    {
      "cell_type": "code",
      "source": [
        "#função lmada com argumento\n",
        "com_default = lambda x,y=10: x+y\n",
        "print(com_default(5))\n",
        "print(com_default(5,3))"
      ],
      "metadata": {
        "colab": {
          "base_uri": "https://localhost:8080/"
        },
        "id": "O8RVv5KCwPkg",
        "outputId": "573e3f0b-639c-4f60-c5a8-717a811decc2"
      },
      "execution_count": null,
      "outputs": [
        {
          "output_type": "stream",
          "name": "stdout",
          "text": [
            "15\n",
            "8\n"
          ]
        }
      ]
    },
    {
      "cell_type": "code",
      "source": [
        "#função map (aplica um afunção a todos os itens de um  com uma lista)\n",
        "numeros = {1,2,3,4,5}\n",
        "quadrados = list(map(lambda x:x**2,numeros))\n",
        "print(quadrados)"
      ],
      "metadata": {
        "colab": {
          "base_uri": "https://localhost:8080/"
        },
        "id": "bLRsXW_DwrzI",
        "outputId": "6bd42a6e-7bc2-4b4f-b670-dd7365a74d96"
      },
      "execution_count": null,
      "outputs": [
        {
          "output_type": "stream",
          "name": "stdout",
          "text": [
            "[1, 4, 9, 16, 25]\n"
          ]
        }
      ]
    },
    {
      "cell_type": "code",
      "source": [
        "#1. Crie uma função que receba uma lista de números e retorne uma lista contendo apenas os números ímpares\n",
        "numeros = [5,8,1,23,97,8,2]\n",
        "impares = list(filter(lambda x:x%2!=0,numeros))\n",
        "print(impares)"
      ],
      "metadata": {
        "colab": {
          "base_uri": "https://localhost:8080/"
        },
        "id": "K7ar7hukxiII",
        "outputId": "4c4b6e40-6b20-4e63-fe39-436ea3978b03"
      },
      "execution_count": null,
      "outputs": [
        {
          "output_type": "stream",
          "name": "stdout",
          "text": [
            "[5, 1, 23, 97]\n"
          ]
        }
      ]
    },
    {
      "cell_type": "code",
      "source": [
        "#2. Escreva uma função que receba uma lista e retorne uma nova lista com o dobro de cada elemento.\n",
        "numeros = [8,6,62,7,8,11]\n",
        "dobro = list(map(lambda x:x*2,numeros))\n",
        "print(dobro)"
      ],
      "metadata": {
        "colab": {
          "base_uri": "https://localhost:8080/"
        },
        "id": "f9di6QmY2iOM",
        "outputId": "049fcb79-b522-4262-d1c6-a05cbc1e1ef1"
      },
      "execution_count": null,
      "outputs": [
        {
          "output_type": "stream",
          "name": "stdout",
          "text": [
            "[16, 12, 124, 14, 16, 22]\n"
          ]
        }
      ]
    },
    {
      "cell_type": "code",
      "source": [
        "#3. Faça uma função que receba uma lista e retorne uma lista sem duplicatas.\n",
        "numeros = [5,6,8,5,3,12,6,98]\n",
        "sem_duplicadas = set(numeros)\n",
        "print(sem_duplicadas)"
      ],
      "metadata": {
        "colab": {
          "base_uri": "https://localhost:8080/"
        },
        "id": "hL7oxSNd2u0h",
        "outputId": "755543e5-be0b-435c-f25d-e3b1a2ab6bc8"
      },
      "execution_count": null,
      "outputs": [
        {
          "output_type": "stream",
          "name": "stdout",
          "text": [
            "{98, 3, 5, 6, 8, 12}\n"
          ]
        }
      ]
    },
    {
      "cell_type": "code",
      "source": [
        "#4. Crie uma função que receba uma lista e um valor divisor e retorne uma lista dos elementos que são divisíveis pelo divisor.\n",
        "lista = [5,8,9,12,5,2]\n",
        "divisor = 2\n",
        "divisiveis = list(filter(lambda x:x%divisor==0,lista))\n",
        "print(divisiveis)"
      ],
      "metadata": {
        "colab": {
          "base_uri": "https://localhost:8080/"
        },
        "id": "fSDUVDvo3bZx",
        "outputId": "a29abb4c-9f0b-4278-a39d-952a67ad8c39"
      },
      "execution_count": null,
      "outputs": [
        {
          "output_type": "stream",
          "name": "stdout",
          "text": [
            "[8, 12, 2]\n"
          ]
        }
      ]
    },
    {
      "cell_type": "code",
      "source": [
        "#5. Escreva uma função que receba duas listas e retorne um conjunto com os elementos que aparecem em ambas.\n",
        "def elementos_em_ambas(lista1, lista2):\n",
        "   conjunto1 = set(lista1)\n",
        "   conjunto2 = set(lista2)\n",
        "   elementos_em_ambas = conjunto1.intersection(conjunto2)\n",
        "   return elementos_em_ambas\n",
        "\n",
        "lista1 = [5,8,9,15,51]\n",
        "lista2 = [8,9,51,7,6]\n",
        "resultado = elementos_em_ambas(lista1, lista2)\n",
        "print(resultado)"
      ],
      "metadata": {
        "colab": {
          "base_uri": "https://localhost:8080/"
        },
        "id": "Lkcyf3Bc4PhS",
        "outputId": "14c87536-a246-4c31-a8d4-c1a7dd839d92"
      },
      "execution_count": null,
      "outputs": [
        {
          "output_type": "stream",
          "name": "stdout",
          "text": [
            "{8, 9, 51}\n"
          ]
        }
      ]
    },
    {
      "cell_type": "code",
      "source": [
        "#6. Crie uma função que receba uma lista e retorne uma nova lista com os elementos em ordem inversa\n",
        "lista = [7,8,5,66,3]\n",
        "lista_inversa = lista[::-1]\n",
        "print(lista_inversa)"
      ],
      "metadata": {
        "colab": {
          "base_uri": "https://localhost:8080/"
        },
        "id": "EwJY7HQs5RfN",
        "outputId": "f48559cd-1551-4e9a-a27c-8f0c3dfb4f4d"
      },
      "execution_count": null,
      "outputs": [
        {
          "output_type": "stream",
          "name": "stdout",
          "text": [
            "[3, 66, 5, 8, 7]\n"
          ]
        }
      ]
    },
    {
      "cell_type": "code",
      "source": [
        "#7. Escreva uma função que receba uma lista de números e retorne uma lista contendo o quadrado de cada número.\n",
        "numeros = [5,11,26,88,64,7]\n",
        "quadrados = list(map(lambda x:x**2 , numeros))\n",
        "print(quadrados)"
      ],
      "metadata": {
        "colab": {
          "base_uri": "https://localhost:8080/"
        },
        "id": "g4OnGi9k5kkO",
        "outputId": "287b1d30-7812-4d77-8680-f656a981d518"
      },
      "execution_count": null,
      "outputs": [
        {
          "output_type": "stream",
          "name": "stdout",
          "text": [
            "[25, 121, 676, 7744, 4096, 49]\n"
          ]
        }
      ]
    },
    {
      "cell_type": "code",
      "source": [
        "#8. Crie uma função que receba uma lista e um valor, e retorne uma lista com os elementos maiores que esse valor\n",
        "def lista_maiores_que_valor(lista, valor):\n",
        " maiores_que_valor = []\n",
        " for elemento in lista:\n",
        "if elemento > valor:\n",
        "  maiores_que_valor.append(elemento)\n",
        "return maiores_que_valor\n",
        "lista = [5,8,9,12,16]\n",
        "valor = 10\n",
        "maiores_que_valor = lista_maiores_que_valor(lista, valor)\n",
        "print(maiores_que_valor)"
      ],
      "metadata": {
        "id": "N8GVz39A-j8W",
        "colab": {
          "base_uri": "https://localhost:8080/",
          "height": 106
        },
        "outputId": "1de63715-74e9-4aed-b4c1-ad132ed1f761"
      },
      "execution_count": 10,
      "outputs": [
        {
          "output_type": "error",
          "ename": "IndentationError",
          "evalue": "expected an indented block after 'for' statement on line 4 (<ipython-input-10-d3c14263c6c4>, line 5)",
          "traceback": [
            "\u001b[0;36m  File \u001b[0;32m\"<ipython-input-10-d3c14263c6c4>\"\u001b[0;36m, line \u001b[0;32m5\u001b[0m\n\u001b[0;31m    if elemento > valor:\u001b[0m\n\u001b[0m                        ^\u001b[0m\n\u001b[0;31mIndentationError\u001b[0m\u001b[0;31m:\u001b[0m expected an indented block after 'for' statement on line 4\n"
          ]
        }
      ]
    },
    {
      "cell_type": "code",
      "source": [
        "#9. Escreva uma função que receba duas listas e retorne uma lista dos elementos que estão em apenas uma das listas\n",
        "lista = [48, 12, 5, 5, 7]\n",
        "lista2 = [8, 10, 22, 6, 4]\n",
        "lista3 = [x for x in lista if x not in lista2]\n",
        "print(lista3)"
      ],
      "metadata": {
        "colab": {
          "base_uri": "https://localhost:8080/"
        },
        "id": "_Mfkn1WfRhQv",
        "outputId": "5bf00487-2dbe-4df7-e557-35228e4fbf1d"
      },
      "execution_count": 11,
      "outputs": [
        {
          "output_type": "stream",
          "name": "stdout",
          "text": [
            "[48, 12, 5, 5, 7]\n"
          ]
        }
      ]
    },
    {
      "cell_type": "code",
      "source": [
        "#10. Faça uma função que receba uma lista e retorne um conjunto dos elementos únicos.\n",
        "lista = [8,55,61,73]\n",
        "conjunto = set(lista)\n",
        "print(conjunto) #duvida"
      ],
      "metadata": {
        "colab": {
          "base_uri": "https://localhost:8080/"
        },
        "id": "inddHnZjSfR0",
        "outputId": "883ca294-3b63-46d4-8f8e-ac52f23ad037"
      },
      "execution_count": 12,
      "outputs": [
        {
          "output_type": "stream",
          "name": "stdout",
          "text": [
            "{8, 73, 61, 55}\n"
          ]
        }
      ]
    },
    {
      "cell_type": "code",
      "source": [
        "#11. Crie uma função que receba duas listas e retorne uma lista dos elementos únicos que estão em ambas.\n",
        "def elementos_unicos(lista1, lista2):\n",
        "  conjunto1 = set(lista1)\n",
        "  conjunto2 = set(lista2)\n",
        "  elementos_unicos = conjunto1.symmetric_difference(conjunto2)\n",
        "  return elementos_unicos\n",
        "lista1 = [8,52,63,24,25]\n",
        "lista2 = [55,52,63,66,59]\n",
        "resultado = elementos_unicos(lista1, lista2)\n",
        "print(resultado)\n"
      ],
      "metadata": {
        "colab": {
          "base_uri": "https://localhost:8080/"
        },
        "id": "FU-jdyjuS_Ey",
        "outputId": "8aef0877-a2ba-44aa-c97f-d91f41d2703b"
      },
      "execution_count": 23,
      "outputs": [
        {
          "output_type": "stream",
          "name": "stdout",
          "text": [
            "{66, 55, 8, 24, 59, 25}\n"
          ]
        }
      ]
    },
    {
      "cell_type": "code",
      "source": [
        "#12. Escreva uma função que receba uma lista e retorne uma lista contendo os elementos que aparecem mais de uma vez.\n",
        "lista = [8, 66, 945, 7, 55, 8, 44, 7]\n",
        "lista2 = [x for x in lista if lista.count(x) > 1]\n",
        "print(lista2)\n"
      ],
      "metadata": {
        "colab": {
          "base_uri": "https://localhost:8080/"
        },
        "id": "OAAiyTTSWrM1",
        "outputId": "7730d1de-306a-47a4-f5f0-f9d3b99f6254"
      },
      "execution_count": 26,
      "outputs": [
        {
          "output_type": "stream",
          "name": "stdout",
          "text": [
            "[8, 7, 8, 7]\n"
          ]
        }
      ]
    },
    {
      "cell_type": "code",
      "source": [
        "#13. Faça uma função que receba uma lista de números e retorne uma lista dos números pares\n",
        "def numeros_pares(lista):\n",
        "  pares = []\n",
        "  for numero in lista:\n",
        "    if numero % 2 == 0:\n",
        "      pares.append(numero)\n",
        "      return pares\n",
        "\n",
        "\n"
      ],
      "metadata": {
        "id": "6Ta5n77mYRIF"
      },
      "execution_count": null,
      "outputs": []
    }
  ]
}