{
  "nbformat": 4,
  "nbformat_minor": 0,
  "metadata": {
    "colab": {
      "provenance": [],
      "authorship_tag": "ABX9TyOGrUKRjQdSsHbqD+7r+bNV",
      "include_colab_link": true
    },
    "kernelspec": {
      "name": "python3",
      "display_name": "Python 3"
    },
    "language_info": {
      "name": "python"
    }
  },
  "cells": [
    {
      "cell_type": "markdown",
      "metadata": {
        "id": "view-in-github",
        "colab_type": "text"
      },
      "source": [
        "<a href=\"https://colab.research.google.com/github/geovanasiqueira/ENG_20242/blob/main/Atividade2/11.11.ipynb\" target=\"_parent\"><img src=\"https://colab.research.google.com/assets/colab-badge.svg\" alt=\"Open In Colab\"/></a>"
      ]
    },
    {
      "cell_type": "code",
      "execution_count": 2,
      "metadata": {
        "colab": {
          "base_uri": "https://localhost:8080/"
        },
        "id": "2YiOM9q8vWwJ",
        "outputId": "1423cf9a-336c-4f9a-c8d6-6b3691bdbe0e"
      },
      "outputs": [
        {
          "output_type": "stream",
          "name": "stdout",
          "text": [
            "12\n"
          ]
        }
      ],
      "source": [
        "#função lambda simples,\n",
        "\n",
        "soma = lambda x,y:x+y\n",
        "print(soma(5,7))"
      ]
    },
    {
      "cell_type": "code",
      "source": [
        "#função lmada com argumento\n",
        "com_default = lambda x,y=10: x+y\n",
        "print(com_default(5))\n",
        "print(com_default(5,3))"
      ],
      "metadata": {
        "colab": {
          "base_uri": "https://localhost:8080/"
        },
        "id": "O8RVv5KCwPkg",
        "outputId": "573e3f0b-639c-4f60-c5a8-717a811decc2"
      },
      "execution_count": 5,
      "outputs": [
        {
          "output_type": "stream",
          "name": "stdout",
          "text": [
            "15\n",
            "8\n"
          ]
        }
      ]
    },
    {
      "cell_type": "code",
      "source": [
        "#função map (aplica um afunção a todos os itens de um  com uma lista)\n",
        "numeros = {1,2,3,4,5}\n",
        "quadrados = list(map(lambda x:x**2,numeros))\n",
        "print(quadrados)"
      ],
      "metadata": {
        "colab": {
          "base_uri": "https://localhost:8080/"
        },
        "id": "bLRsXW_DwrzI",
        "outputId": "6bd42a6e-7bc2-4b4f-b670-dd7365a74d96"
      },
      "execution_count": 11,
      "outputs": [
        {
          "output_type": "stream",
          "name": "stdout",
          "text": [
            "[1, 4, 9, 16, 25]\n"
          ]
        }
      ]
    },
    {
      "cell_type": "code",
      "source": [
        "#1. Crie uma função que receba uma lista de números e retorne uma lista contendo apenas os números ímpares\n",
        "numeros = [5,8,1,23,97,8,2]\n",
        "impares = list(filter(lambda x:x%2!=0,numeros))\n",
        "print(impares)"
      ],
      "metadata": {
        "colab": {
          "base_uri": "https://localhost:8080/"
        },
        "id": "K7ar7hukxiII",
        "outputId": "4c4b6e40-6b20-4e63-fe39-436ea3978b03"
      },
      "execution_count": 18,
      "outputs": [
        {
          "output_type": "stream",
          "name": "stdout",
          "text": [
            "[5, 1, 23, 97]\n"
          ]
        }
      ]
    },
    {
      "cell_type": "code",
      "source": [
        "#2. Escreva uma função que receba uma lista e retorne uma nova lista com o dobro de cada elemento.\n",
        "numeros = [8,6,62,7,8,11]\n",
        "dobro = list(map(lambda x:x*2,numeros))\n",
        "print(dobro)"
      ],
      "metadata": {
        "colab": {
          "base_uri": "https://localhost:8080/"
        },
        "id": "f9di6QmY2iOM",
        "outputId": "049fcb79-b522-4262-d1c6-a05cbc1e1ef1"
      },
      "execution_count": 19,
      "outputs": [
        {
          "output_type": "stream",
          "name": "stdout",
          "text": [
            "[16, 12, 124, 14, 16, 22]\n"
          ]
        }
      ]
    },
    {
      "cell_type": "code",
      "source": [
        "#3. Faça uma função que receba uma lista e retorne uma lista sem duplicatas.\n",
        "numeros = [5,6,8,5,3,12,6,98]\n",
        "sem_duplicadas = set(numeros)\n",
        "print(sem_duplicadas)"
      ],
      "metadata": {
        "colab": {
          "base_uri": "https://localhost:8080/"
        },
        "id": "hL7oxSNd2u0h",
        "outputId": "755543e5-be0b-435c-f25d-e3b1a2ab6bc8"
      },
      "execution_count": 20,
      "outputs": [
        {
          "output_type": "stream",
          "name": "stdout",
          "text": [
            "{98, 3, 5, 6, 8, 12}\n"
          ]
        }
      ]
    }
  ]
}