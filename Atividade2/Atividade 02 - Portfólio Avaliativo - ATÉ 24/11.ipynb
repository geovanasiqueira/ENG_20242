{
  "nbformat": 4,
  "nbformat_minor": 0,
  "metadata": {
    "colab": {
      "provenance": [],
      "authorship_tag": "ABX9TyOjYT+BkgRNlbXpDSnUp8dC",
      "include_colab_link": true
    },
    "kernelspec": {
      "name": "python3",
      "display_name": "Python 3"
    },
    "language_info": {
      "name": "python"
    }
  },
  "cells": [
    {
      "cell_type": "markdown",
      "metadata": {
        "id": "view-in-github",
        "colab_type": "text"
      },
      "source": [
        "<a href=\"https://colab.research.google.com/github/geovanasiqueira/ENG_20242/blob/main/Atividade2/Atividade%2002%20-%20Portf%C3%B3lio%20Avaliativo%20-%20AT%C3%89%2024/11.ipynb\" target=\"_parent\"><img src=\"https://colab.research.google.com/assets/colab-badge.svg\" alt=\"Open In Colab\"/></a>"
      ]
    },
    {
      "cell_type": "code",
      "execution_count": null,
      "metadata": {
        "colab": {
          "base_uri": "https://localhost:8080/"
        },
        "id": "2YiOM9q8vWwJ",
        "outputId": "1423cf9a-336c-4f9a-c8d6-6b3691bdbe0e"
      },
      "outputs": [
        {
          "output_type": "stream",
          "name": "stdout",
          "text": [
            "12\n"
          ]
        }
      ],
      "source": [
        "#função lambda simples,\n",
        "\n",
        "soma = lambda x,y:x+y\n",
        "print(soma(5,7))"
      ]
    },
    {
      "cell_type": "code",
      "source": [
        "#função lmada com argumento\n",
        "com_default = lambda x,y=10: x+y\n",
        "print(com_default(5))\n",
        "print(com_default(5,3))"
      ],
      "metadata": {
        "colab": {
          "base_uri": "https://localhost:8080/"
        },
        "id": "O8RVv5KCwPkg",
        "outputId": "573e3f0b-639c-4f60-c5a8-717a811decc2"
      },
      "execution_count": null,
      "outputs": [
        {
          "output_type": "stream",
          "name": "stdout",
          "text": [
            "15\n",
            "8\n"
          ]
        }
      ]
    },
    {
      "cell_type": "code",
      "source": [
        "#função map (aplica um afunção a todos os itens de um  com uma lista)\n",
        "numeros = {1,2,3,4,5}\n",
        "quadrados = list(map(lambda x:x**2,numeros))\n",
        "print(quadrados)"
      ],
      "metadata": {
        "colab": {
          "base_uri": "https://localhost:8080/"
        },
        "id": "bLRsXW_DwrzI",
        "outputId": "6bd42a6e-7bc2-4b4f-b670-dd7365a74d96"
      },
      "execution_count": null,
      "outputs": [
        {
          "output_type": "stream",
          "name": "stdout",
          "text": [
            "[1, 4, 9, 16, 25]\n"
          ]
        }
      ]
    },
    {
      "cell_type": "code",
      "source": [
        "#1. Crie uma função que receba uma lista de números e retorne uma lista contendo apenas os números ímpares\n",
        "numeros = [5,8,1,23,97,8,2]\n",
        "impares = list(filter(lambda x:x%2!=0,numeros))\n",
        "print(impares)"
      ],
      "metadata": {
        "colab": {
          "base_uri": "https://localhost:8080/"
        },
        "id": "K7ar7hukxiII",
        "outputId": "4c4b6e40-6b20-4e63-fe39-436ea3978b03"
      },
      "execution_count": null,
      "outputs": [
        {
          "output_type": "stream",
          "name": "stdout",
          "text": [
            "[5, 1, 23, 97]\n"
          ]
        }
      ]
    },
    {
      "cell_type": "code",
      "source": [
        "#2. Escreva uma função que receba uma lista e retorne uma nova lista com o dobro de cada elemento.\n",
        "numeros = [8,6,62,7,8,11]\n",
        "dobro = list(map(lambda x:x*2,numeros))\n",
        "print(dobro)"
      ],
      "metadata": {
        "colab": {
          "base_uri": "https://localhost:8080/"
        },
        "id": "f9di6QmY2iOM",
        "outputId": "049fcb79-b522-4262-d1c6-a05cbc1e1ef1"
      },
      "execution_count": null,
      "outputs": [
        {
          "output_type": "stream",
          "name": "stdout",
          "text": [
            "[16, 12, 124, 14, 16, 22]\n"
          ]
        }
      ]
    },
    {
      "cell_type": "code",
      "source": [
        "#3. Faça uma função que receba uma lista e retorne uma lista sem duplicatas.\n",
        "numeros = [5,6,8,5,3,12,6,98]\n",
        "sem_duplicadas = set(numeros)\n",
        "print(sem_duplicadas)"
      ],
      "metadata": {
        "colab": {
          "base_uri": "https://localhost:8080/"
        },
        "id": "hL7oxSNd2u0h",
        "outputId": "755543e5-be0b-435c-f25d-e3b1a2ab6bc8"
      },
      "execution_count": null,
      "outputs": [
        {
          "output_type": "stream",
          "name": "stdout",
          "text": [
            "{98, 3, 5, 6, 8, 12}\n"
          ]
        }
      ]
    },
    {
      "cell_type": "code",
      "source": [
        "#4. Crie uma função que receba uma lista e um valor divisor e retorne uma lista dos elementos que são divisíveis pelo divisor.\n",
        "lista = [5,8,9,12,5,2]\n",
        "divisor = 2\n",
        "divisiveis = list(filter(lambda x:x%divisor==0,lista))\n",
        "print(divisiveis)"
      ],
      "metadata": {
        "colab": {
          "base_uri": "https://localhost:8080/"
        },
        "id": "fSDUVDvo3bZx",
        "outputId": "a29abb4c-9f0b-4278-a39d-952a67ad8c39"
      },
      "execution_count": null,
      "outputs": [
        {
          "output_type": "stream",
          "name": "stdout",
          "text": [
            "[8, 12, 2]\n"
          ]
        }
      ]
    },
    {
      "cell_type": "code",
      "source": [
        "#5. Escreva uma função que receba duas listas e retorne um conjunto com os elementos que aparecem em ambas.\n",
        "def elementos_em_ambas(lista1, lista2):\n",
        "   conjunto1 = set(lista1)\n",
        "   conjunto2 = set(lista2)\n",
        "   elementos_em_ambas = conjunto1.intersection(conjunto2)\n",
        "   return elementos_em_ambas\n",
        "\n",
        "lista1 = [5,8,9,15,51]\n",
        "lista2 = [8,9,51,7,6]\n",
        "resultado = elementos_em_ambas(lista1, lista2)\n",
        "print(resultado)"
      ],
      "metadata": {
        "colab": {
          "base_uri": "https://localhost:8080/"
        },
        "id": "Lkcyf3Bc4PhS",
        "outputId": "14c87536-a246-4c31-a8d4-c1a7dd839d92"
      },
      "execution_count": null,
      "outputs": [
        {
          "output_type": "stream",
          "name": "stdout",
          "text": [
            "{8, 9, 51}\n"
          ]
        }
      ]
    },
    {
      "cell_type": "code",
      "source": [
        "#6. Crie uma função que receba uma lista e retorne uma nova lista com os elementos em ordem inversa\n",
        "lista = [7,8,5,66,3]\n",
        "lista_inversa = lista[::-1]\n",
        "print(lista_inversa)"
      ],
      "metadata": {
        "colab": {
          "base_uri": "https://localhost:8080/"
        },
        "id": "EwJY7HQs5RfN",
        "outputId": "f48559cd-1551-4e9a-a27c-8f0c3dfb4f4d"
      },
      "execution_count": null,
      "outputs": [
        {
          "output_type": "stream",
          "name": "stdout",
          "text": [
            "[3, 66, 5, 8, 7]\n"
          ]
        }
      ]
    },
    {
      "cell_type": "code",
      "source": [
        "#7. Escreva uma função que receba uma lista de números e retorne uma lista contendo o quadrado de cada número.\n",
        "numeros = [5,11,26,88,64,7]\n",
        "quadrados = list(map(lambda x:x**2 , numeros))\n",
        "print(quadrados)"
      ],
      "metadata": {
        "colab": {
          "base_uri": "https://localhost:8080/"
        },
        "id": "g4OnGi9k5kkO",
        "outputId": "287b1d30-7812-4d77-8680-f656a981d518"
      },
      "execution_count": null,
      "outputs": [
        {
          "output_type": "stream",
          "name": "stdout",
          "text": [
            "[25, 121, 676, 7744, 4096, 49]\n"
          ]
        }
      ]
    },
    {
      "cell_type": "code",
      "source": [
        "#8. Crie uma função que receba uma lista e um valor, e retorne uma lista com os elementos maiores que esse valor\n",
        "lista = ['maçã', 'tangerina']\n",
        "valor = 'maçã'\n",
        "maiores_que_valor = [elemento for elemento in lista if elemento > valor]\n",
        "print(maiores_que_valor)"
      ],
      "metadata": {
        "id": "N8GVz39A-j8W",
        "colab": {
          "base_uri": "https://localhost:8080/"
        },
        "outputId": "925b6b96-61c8-4637-f33a-d8729ef0285f"
      },
      "execution_count": 81,
      "outputs": [
        {
          "output_type": "stream",
          "name": "stdout",
          "text": [
            "['tangerina']\n"
          ]
        }
      ]
    },
    {
      "cell_type": "code",
      "source": [
        "#9. Escreva uma função que receba duas listas e retorne uma lista dos elementos que estão em apenas uma das listas\n",
        "lista = [48, 12, 5, 5, 7]\n",
        "lista2 = [8, 10, 22, 6, 4]\n",
        "lista3 = [x for x in lista if x not in lista2]\n",
        "print(lista3)"
      ],
      "metadata": {
        "colab": {
          "base_uri": "https://localhost:8080/"
        },
        "id": "_Mfkn1WfRhQv",
        "outputId": "5bf00487-2dbe-4df7-e557-35228e4fbf1d"
      },
      "execution_count": null,
      "outputs": [
        {
          "output_type": "stream",
          "name": "stdout",
          "text": [
            "[48, 12, 5, 5, 7]\n"
          ]
        }
      ]
    },
    {
      "cell_type": "code",
      "source": [
        "#10. Faça uma função que receba uma lista e retorne um conjunto dos elementos únicos.\n",
        "lista = [8,55,61,73]\n",
        "conjunto = set(lista)\n",
        "print(conjunto) #duvida"
      ],
      "metadata": {
        "colab": {
          "base_uri": "https://localhost:8080/"
        },
        "id": "inddHnZjSfR0",
        "outputId": "883ca294-3b63-46d4-8f8e-ac52f23ad037"
      },
      "execution_count": null,
      "outputs": [
        {
          "output_type": "stream",
          "name": "stdout",
          "text": [
            "{8, 73, 61, 55}\n"
          ]
        }
      ]
    },
    {
      "cell_type": "code",
      "source": [
        "#11. Crie uma função que receba duas listas e retorne uma lista dos elementos únicos que estão em ambas.\n",
        "def elementos_unicos(lista1, lista2):\n",
        "  conjunto1 = set(lista1)\n",
        "  conjunto2 = set(lista2)\n",
        "  elementos_unicos = conjunto1.symmetric_difference(conjunto2)\n",
        "  return elementos_unicos\n",
        "lista1 = [8,52,63,24,25]\n",
        "lista2 = [55,52,63,66,59]\n",
        "resultado = elementos_unicos(lista1, lista2)\n",
        "print(resultado)\n"
      ],
      "metadata": {
        "colab": {
          "base_uri": "https://localhost:8080/"
        },
        "id": "FU-jdyjuS_Ey",
        "outputId": "8aef0877-a2ba-44aa-c97f-d91f41d2703b"
      },
      "execution_count": null,
      "outputs": [
        {
          "output_type": "stream",
          "name": "stdout",
          "text": [
            "{66, 55, 8, 24, 59, 25}\n"
          ]
        }
      ]
    },
    {
      "cell_type": "code",
      "source": [
        "#12. Escreva uma função que receba uma lista e retorne uma lista contendo os elementos que aparecem mais de uma vez.\n",
        "lista = [8, 66, 945, 7, 55, 8, 44, 7]\n",
        "lista2 = [x for x in lista if lista.count(x) > 1]\n",
        "print(lista2)\n"
      ],
      "metadata": {
        "colab": {
          "base_uri": "https://localhost:8080/"
        },
        "id": "OAAiyTTSWrM1",
        "outputId": "7730d1de-306a-47a4-f5f0-f9d3b99f6254"
      },
      "execution_count": null,
      "outputs": [
        {
          "output_type": "stream",
          "name": "stdout",
          "text": [
            "[8, 7, 8, 7]\n"
          ]
        }
      ]
    },
    {
      "cell_type": "code",
      "source": [
        "#13. Faça uma função que receba uma lista de números e retorne uma lista dos números pares\n",
        "lista = [8, 6, 7, 8, 9]\n",
        "lista2 = [x for x in lista if x % 2 == 0]\n",
        "print(lista2)\n",
        "\n",
        "\n",
        "\n",
        "\n"
      ],
      "metadata": {
        "id": "6Ta5n77mYRIF",
        "colab": {
          "base_uri": "https://localhost:8080/"
        },
        "outputId": "ac4ebcf3-eace-47ce-b76d-602744844ea6"
      },
      "execution_count": 77,
      "outputs": [
        {
          "output_type": "stream",
          "name": "stdout",
          "text": [
            "[8, 6, 8]\n"
          ]
        }
      ]
    },
    {
      "cell_type": "code",
      "source": [
        "#14. Escreva uma função que receba uma lista de números e um valor, e retorne uma lista com os índices dos elementos maiores que o valor\n",
        "def indices_maiores_que(lista,valor):\n",
        "  return [i for i, num in enumerate(lista) if num > valor]\n",
        "numeros = [1, 2, 3, 4, 5, 6, 7, 8, 4]\n",
        "valor = 5\n",
        "indices = indices_maiores_que(numeros, valor)\n",
        "print(indices)\n",
        "\n"
      ],
      "metadata": {
        "colab": {
          "base_uri": "https://localhost:8080/"
        },
        "id": "IIv84bsJ1b0f",
        "outputId": "e33977be-e826-4d15-ccfe-190e38707eaa"
      },
      "execution_count": 41,
      "outputs": [
        {
          "output_type": "stream",
          "name": "stdout",
          "text": [
            "[5, 6, 7]\n"
          ]
        }
      ]
    },
    {
      "cell_type": "code",
      "source": [
        "#15. Crie uma função que receba uma lista de strings e retorne uma lista com o tamanho de cada string.\n",
        "lista = [\"maçã\", \"mamão\", \"Uva\"]\n",
        "tamanho_strings = [len(string) for string in lista]\n",
        "print(tamanho_strings)\n"
      ],
      "metadata": {
        "colab": {
          "base_uri": "https://localhost:8080/"
        },
        "id": "S7y9yX1t3fLi",
        "outputId": "66c62ea6-9f16-447f-87eb-da8e2e5d379f"
      },
      "execution_count": 42,
      "outputs": [
        {
          "output_type": "stream",
          "name": "stdout",
          "text": [
            "[4, 5, 3]\n"
          ]
        }
      ]
    },
    {
      "cell_type": "code",
      "source": [
        "#16. Escreva uma função que receba uma lista de números e retorne uma lista contendo cada número elevado ao cubo\n",
        "lista = [5, 8, 1, 3]\n",
        "cubo = [x**3 for x in lista]\n",
        "print(cubo)\n"
      ],
      "metadata": {
        "colab": {
          "base_uri": "https://localhost:8080/"
        },
        "id": "os1URT3u4DNP",
        "outputId": "30ef696a-6fa8-4867-e13c-0c02930b3409"
      },
      "execution_count": 43,
      "outputs": [
        {
          "output_type": "stream",
          "name": "stdout",
          "text": [
            "[125, 512, 1, 27]\n"
          ]
        }
      ]
    },
    {
      "cell_type": "code",
      "source": [
        "#17. Crie uma função que receba uma lista e retorne uma lista de todos os elementos únicos.\n",
        "lista = [8, 5, 3, 66]\n",
        "unicos = list(set(lista))\n",
        "print(unicos)\n"
      ],
      "metadata": {
        "colab": {
          "base_uri": "https://localhost:8080/"
        },
        "id": "jD4KJy9d4XUG",
        "outputId": "26ecae39-ceaa-4f77-f658-1c84114ad5a4"
      },
      "execution_count": 45,
      "outputs": [
        {
          "output_type": "stream",
          "name": "stdout",
          "text": [
            "[8, 66, 3, 5]\n"
          ]
        }
      ]
    },
    {
      "cell_type": "code",
      "source": [
        "#18. Escreva uma função que receba uma lista de strings e retorne uma lista contendo as strings que começam com uma letra maiúscula.\n",
        "lista = ['Maçã', 'banana', 'ameixa']\n",
        "maiusculas = [string for string in lista if string[0].isupper()]\n",
        "print(maiusculas)\n"
      ],
      "metadata": {
        "colab": {
          "base_uri": "https://localhost:8080/"
        },
        "id": "0JFrHJGe44Ea",
        "outputId": "cdfb08de-67aa-452e-db41-f377855f9802"
      },
      "execution_count": 57,
      "outputs": [
        {
          "output_type": "stream",
          "name": "stdout",
          "text": [
            "['Maçã']\n"
          ]
        }
      ]
    },
    {
      "cell_type": "code",
      "source": [
        "#19. Faça uma função que receba uma lista de números e retorne uma lista contendo apenas os múltiplos de 3.\n",
        "def multiplos_de_tres(lista):\n",
        "  return [num for num in lista if num % 3 == 0]\n",
        "numeros = [4, 5, 6, 8, 9, 3, 12]\n",
        "multiplos = multiplos_de_tres(numeros)\n",
        "print(multiplos)"
      ],
      "metadata": {
        "colab": {
          "base_uri": "https://localhost:8080/"
        },
        "id": "3SpoGpeN6JOo",
        "outputId": "651e5ef2-44b8-4e25-bd72-b3dcc2d88d45"
      },
      "execution_count": 61,
      "outputs": [
        {
          "output_type": "stream",
          "name": "stdout",
          "text": [
            "[6, 9, 3, 12]\n"
          ]
        }
      ]
    },
    {
      "cell_type": "code",
      "source": [
        "#20. Escreva uma função que receba duas listas e retorne uma lista com a interseção ordenada de forma crescente entre elas.\n",
        "def intersecao_ordenada(lista1, lista2):\n",
        "  conjunto1 = set(lista1)\n",
        "  conjunto2 = set(lista2)\n",
        "  intersecao = sorted(conjunto1.intersection(conjunto2))\n",
        "  return intersecao\n",
        "\n",
        "lista1 = [2, 5, 6, 18, 25]\n",
        "lista2 = [5, 7, 6, 18, 29]\n",
        "intersecao = intersecao_ordenada(lista1, lista2)\n",
        "print(intersecao)\n",
        "\n"
      ],
      "metadata": {
        "colab": {
          "base_uri": "https://localhost:8080/"
        },
        "id": "yWgM1EyO7Drp",
        "outputId": "04122141-f959-4b43-db5f-fb514b88448e"
      },
      "execution_count": 75,
      "outputs": [
        {
          "output_type": "stream",
          "name": "stdout",
          "text": [
            "[5, 6, 18]\n"
          ]
        }
      ]
    }
  ]
}