{
  "nbformat": 4,
  "nbformat_minor": 0,
  "metadata": {
    "colab": {
      "provenance": [],
      "authorship_tag": "ABX9TyNrK5RSgtsM9guQIhfZH7yZ",
      "include_colab_link": true
    },
    "kernelspec": {
      "name": "python3",
      "display_name": "Python 3"
    },
    "language_info": {
      "name": "python"
    }
  },
  "cells": [
    {
      "cell_type": "markdown",
      "metadata": {
        "id": "view-in-github",
        "colab_type": "text"
      },
      "source": [
        "<a href=\"https://colab.research.google.com/github/geovanasiqueira/ENG_20242/blob/main/Atividade2/.ipynb\" target=\"_parent\"><img src=\"https://colab.research.google.com/assets/colab-badge.svg\" alt=\"Open In Colab\"/></a>"
      ]
    },
    {
      "cell_type": "code",
      "execution_count": 2,
      "metadata": {
        "colab": {
          "base_uri": "https://localhost:8080/"
        },
        "id": "_e0JcSRaKWyO",
        "outputId": "8cc89619-a6dc-4f7d-b3e2-69ae582505ef"
      },
      "outputs": [
        {
          "output_type": "stream",
          "name": "stdout",
          "text": [
            "digite seu nomealice\n",
            "digite sua cidadevitória\n",
            "Olá, [nome]! Você vive em [cidade]\n"
          ]
        }
      ],
      "source": [
        "#1 crie uma função para que o usuário digite o seu nome e a sua cidade. O programa deve exibir \"Olá, [nome]! Você vive em [cidade].“\n",
        "nome = input(\"digite seu nome\")\n",
        "cidade = input(\"digite sua cidade\")\n",
        "print(f'Olá, [nome]! Você vive em [cidade]')\n"
      ]
    },
    {
      "cell_type": "code",
      "source": [
        "#2 - Crie uma função para que o usuário digite o comprimento e a largura de um retângulo. O programa deve exibir a área e o perímetro do retângulo.\n",
        "comprimento = float(input(\"digite o comprimento do retângulo: \"))\n",
        "Largura = float(input(\"digite a Largura do retangulo: \"))\n",
        "area = comprimento * Largura\n",
        "perimetro = 2 * (comprimento + Largura)\n",
        "print(F'a area do retangulo é {area} e o perimetro é (perimetro)')\n",
        "\n"
      ],
      "metadata": {
        "colab": {
          "base_uri": "https://localhost:8080/"
        },
        "id": "1-oq5ObqNOTX",
        "outputId": "2be4c3bb-5e23-4d25-f815-43355f4c9643"
      },
      "execution_count": 14,
      "outputs": [
        {
          "output_type": "stream",
          "name": "stdout",
          "text": [
            "digite o comprimento do retângulo: 8\n",
            "digite a Largura do retangulo: 5\n",
            "a area do retangulo é 40.0 e o perimetro é (perimetro)\n"
          ]
        }
      ]
    },
    {
      "cell_type": "code",
      "source": [
        "#3 - Crie uma função para que o usuário digite uma medida em metros. O programa deve converter essa medida para centímetros e milímetros e exibir o resultado.\n",
        "medida = float(input(\"digite uma medida em metros: \"))\n",
        "centimetros = medida * 100\n",
        "milimetros = medida * 1000\n",
        "print(f' a medida em centimetros é {centimetros} e a medida em milimetros é {milimetros}')\n"
      ],
      "metadata": {
        "colab": {
          "base_uri": "https://localhost:8080/"
        },
        "id": "2PzmUAt3RXn7",
        "outputId": "2b0061fc-5659-487c-cc23-e15461023a65"
      },
      "execution_count": 15,
      "outputs": [
        {
          "output_type": "stream",
          "name": "stdout",
          "text": [
            "digite uma medida em metros: 10\n",
            " a medida em centimetros é 1000.0 e a medida em milimetros é 10000.0\n"
          ]
        }
      ]
    },
    {
      "cell_type": "code",
      "source": [],
      "metadata": {
        "colab": {
          "base_uri": "https://localhost:8080/"
        },
        "id": "-yJysU5eSct3",
        "outputId": "d9529d29-2c28-42a8-8ff1-1a60335b79c9"
      },
      "execution_count": 19,
      "outputs": [
        {
          "output_type": "stream",
          "name": "stdout",
          "text": [
            "digite a largura do retangulo: 5\n",
            "digite a altura do retangulo: 5\n",
            "a area do retangulo é 25.0\n"
          ]
        }
      ]
    },
    {
      "cell_type": "code",
      "source": [
        "#5 - Crie uma função para que o usuário digite as idades de duas pessoas. O programa deve exibir se as idades são iguais ou diferentes.\n",
        "idade1 = int(input(\"digite a idade da primeira pessoa: \"))\n",
        "idade2 = int(input(\"digite a idade da segunda pessoa: \"))\n",
        "if idade1 == idade2:\n",
        "   print(\"as idades são iguais\")\n",
        "else:\n",
        " print(\"as idades são diferentes\")"
      ],
      "metadata": {
        "colab": {
          "base_uri": "https://localhost:8080/"
        },
        "id": "nM70y2Y2VGAZ",
        "outputId": "44de1bd9-875b-422a-b0e8-cb34f6e1df4b"
      },
      "execution_count": 21,
      "outputs": [
        {
          "output_type": "stream",
          "name": "stdout",
          "text": [
            "digite a idade da primeira pessoa: 15\n",
            "digite a idade da segunda pessoa: 16\n",
            "as idades são diferentes\n"
          ]
        }
      ]
    },
    {
      "cell_type": "code",
      "source": [
        "#6 - Crie uma função para que o usuário digite seu peso (em kg) e sua altura (em metros). O programa deve calcular e exibir o Índice de Massa Corporal (IMC).\n",
        "peso = float(input(\"digite seu peso: \"))\n",
        "altura - float(input(\"digite sua altura: \"))\n",
        "\n",
        "imc = peso / (altura ** 2)\n",
        "print(f'seu imc é {imc}')"
      ],
      "metadata": {
        "colab": {
          "base_uri": "https://localhost:8080/"
        },
        "id": "Y0FC8ThxV5tj",
        "outputId": "6a0d9bb2-3a0d-40c5-8efc-05c8c873598d"
      },
      "execution_count": 23,
      "outputs": [
        {
          "output_type": "stream",
          "name": "stdout",
          "text": [
            "digite seu peso: 47\n",
            "digite sua altura: 1.67\n",
            "seu imc é 1.88\n"
          ]
        }
      ]
    },
    {
      "cell_type": "code",
      "source": [
        "#7 - Crie uma função para que o usuário digite dois números. O programa deve exibir se o primeiro número é maior, menor ou igual ao segundo número.\n",
        "numero1 = int(input(\"digite seu primeiro numero: \"))\n",
        "numero2 = int(input(\"digite seu segundo numero: \"))\n",
        "if numero1 > numero2:\n",
        "   print(\"o primeiro numero é maior que o segundo numero\")\n",
        "elif numero1 < numero2:\n",
        "    print(\"o primeiro numero é menor que o segundo numero\")\n",
        "else:\n",
        "      print(\"o primeiro numero é igual ao segundo\")"
      ],
      "metadata": {
        "colab": {
          "base_uri": "https://localhost:8080/"
        },
        "id": "frQuvYIVXXDT",
        "outputId": "e4b3af30-1278-4386-b264-af3a9cb353a4"
      },
      "execution_count": 26,
      "outputs": [
        {
          "output_type": "stream",
          "name": "stdout",
          "text": [
            "digite seu primeiro numero: 89\n",
            "digite seu segundo numero: 90\n",
            "o primeiro numero é menor que o segundo numero\n"
          ]
        }
      ]
    },
    {
      "cell_type": "code",
      "source": [
        "#8 - Crie uma função para que o usuário digite três números. O programa deve calcular e exibir a média aritmética desses números.\n",
        "numero1 = int(input(\"digite seu primeiro numero:\"))\n",
        "numero2 = int(input(\"digite seu segundo numero: \"))\n",
        "numero3 = int(input(\"digite seu terceiro numero: \"))\n",
        "media = (numero1 + numero2 + numero3) / 3\n",
        "print(f'a media é {media}')"
      ],
      "metadata": {
        "colab": {
          "base_uri": "https://localhost:8080/"
        },
        "id": "GCi6kmBlYKD1",
        "outputId": "1f892c5a-5eec-4079-9595-1c3c6c6ddb9d"
      },
      "execution_count": 28,
      "outputs": [
        {
          "output_type": "stream",
          "name": "stdout",
          "text": [
            "digite seu primeiro numero:15\n",
            "digite seu segundo numero: 6\n",
            "digite seu terceiro numero: 15\n",
            "a media é 12.0\n"
          ]
        }
      ]
    },
    {
      "cell_type": "code",
      "source": [
        "#9 - Crie uma função para que o usuário digite o raio e a altura de um cilindro. O programa deve calcular e exibir o volume do cilindro.\n",
        "raio = float(input(\"digite o raio do cilindro: \"))\n",
        "altura = float(input(\"digite a altura do clindro: \"))\n",
        "volume = 3.4 * (raio ** 2) * altura\n",
        "print(f'o volume do cilindro é {volume}')\n"
      ],
      "metadata": {
        "colab": {
          "base_uri": "https://localhost:8080/"
        },
        "id": "s877nRYqYrqI",
        "outputId": "d3b6f50c-5427-48b4-c844-0052c792d1bc"
      },
      "execution_count": 29,
      "outputs": [
        {
          "output_type": "stream",
          "name": "stdout",
          "text": [
            "digite o raio do cilindro: 75\n",
            "digite a altura do clindro: 5\n",
            "o volume do cilindro é 95625.0\n"
          ]
        }
      ]
    },
    {
      "cell_type": "code",
      "source": [
        "#10 - Crie uma função para que o usuário digite duas palavras. O programa deve exibir se as palavras são iguais ou diferentes.\n",
        "palavra1"
      ],
      "metadata": {
        "id": "x0f0T001ZFbX"
      },
      "execution_count": null,
      "outputs": []
    }
  ]
}