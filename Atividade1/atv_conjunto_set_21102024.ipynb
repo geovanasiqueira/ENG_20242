{
  "nbformat": 4,
  "nbformat_minor": 0,
  "metadata": {
    "colab": {
      "provenance": [],
      "authorship_tag": "ABX9TyPo4hiHgiecnzCga2GwzBCh",
      "include_colab_link": true
    },
    "kernelspec": {
      "name": "python3",
      "display_name": "Python 3"
    },
    "language_info": {
      "name": "python"
    }
  },
  "cells": [
    {
      "cell_type": "markdown",
      "metadata": {
        "id": "view-in-github",
        "colab_type": "text"
      },
      "source": [
        "<a href=\"https://colab.research.google.com/github/geovanasiqueira/ENG_20242/blob/main/Atividade1/atv_conjunto_set_21102024.ipynb\" target=\"_parent\"><img src=\"https://colab.research.google.com/assets/colab-badge.svg\" alt=\"Open In Colab\"/></a>"
      ]
    },
    {
      "cell_type": "code",
      "execution_count": 2,
      "metadata": {
        "id": "VKDQOwRCmKnx"
      },
      "outputs": [],
      "source": [
        "meu_conjunto =  set ()"
      ]
    },
    {
      "cell_type": "code",
      "source": [
        "conjunto_de_numeros = {1, 2, 3, 4, 5}\n",
        "print(conjunto_de_numeros)\n"
      ],
      "metadata": {
        "colab": {
          "base_uri": "https://localhost:8080/"
        },
        "id": "MveJyyhzmfJz",
        "outputId": "08ac4e43-50ec-490e-cc33-e3312dbd336e"
      },
      "execution_count": 3,
      "outputs": [
        {
          "output_type": "stream",
          "name": "stdout",
          "text": [
            "{1, 2, 3, 4, 5}\n"
          ]
        }
      ]
    },
    {
      "cell_type": "code",
      "source": [
        "conjunto1 = {1, 2, 3}\n",
        "conjunto2 = {3, 4, 5}\n",
        "uniao = conjunto1.union(conjunto2)  # ou conjunto1 | conjunto2\n",
        "print(uniao)"
      ],
      "metadata": {
        "colab": {
          "base_uri": "https://localhost:8080/"
        },
        "id": "As3Xpy7HmihT",
        "outputId": "5ea9af8b-7913-41ca-f3b1-aa0d6370fcdf"
      },
      "execution_count": 4,
      "outputs": [
        {
          "output_type": "stream",
          "name": "stdout",
          "text": [
            "{1, 2, 3, 4, 5}\n"
          ]
        }
      ]
    },
    {
      "cell_type": "code",
      "source": [
        "#1 - Crie um conjunto chamado `frutas` que contenha os seguintes elementos: \"maçã\", \"banana\", \"laranja\" e \"uva\". Depois de criar o conjunto, exiba-o no console para confirmar os elementos adicionados.\n",
        "conjunto_de_frutas = {\"maçã\", \"banana\", \"laranja\", \"uva\"}\n",
        "conjunto_de_frutas.add(\"limão\")\n",
        "print(conjunto_de_frutas)\n"
      ],
      "metadata": {
        "colab": {
          "base_uri": "https://localhost:8080/"
        },
        "id": "U1SjXysQntXp",
        "outputId": "2be259be-3973-4ca2-a154-4ac579351dcb"
      },
      "execution_count": 6,
      "outputs": [
        {
          "output_type": "stream",
          "name": "stdout",
          "text": [
            "{'banana', 'uva', 'limão', 'maçã', 'laranja'}\n"
          ]
        }
      ]
    },
    {
      "cell_type": "code",
      "source": [],
      "metadata": {
        "id": "-EbZKaC5pGnd"
      },
      "execution_count": null,
      "outputs": []
    }
  ]
}