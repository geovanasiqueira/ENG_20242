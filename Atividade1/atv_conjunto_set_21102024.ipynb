{
  "nbformat": 4,
  "nbformat_minor": 0,
  "metadata": {
    "colab": {
      "provenance": [],
      "authorship_tag": "ABX9TyP46zyal44WKzYy2u7hGv9+",
      "include_colab_link": true
    },
    "kernelspec": {
      "name": "python3",
      "display_name": "Python 3"
    },
    "language_info": {
      "name": "python"
    }
  },
  "cells": [
    {
      "cell_type": "markdown",
      "metadata": {
        "id": "view-in-github",
        "colab_type": "text"
      },
      "source": [
        "<a href=\"https://colab.research.google.com/github/geovanasiqueira/ENG_20242/blob/main/Atividade1/atv_conjunto_set_21102024.ipynb\" target=\"_parent\"><img src=\"https://colab.research.google.com/assets/colab-badge.svg\" alt=\"Open In Colab\"/></a>"
      ]
    },
    {
      "cell_type": "code",
      "source": [
        "#1 - Crie um conjunto chamado `frutas` que contenha os seguintes elementos: \"maçã\", \"banana\", \"laranja\" e \"uva\". Depois de criar o conjunto, exiba-o no console para confirmar os elementos adicionados.\n",
        "conjunto_de_frutas = {\"maçã\", \"banana\", \"laranja\", \"uva\"}\n",
        "print(conjunto_de_frutas)\n"
      ],
      "metadata": {
        "colab": {
          "base_uri": "https://localhost:8080/"
        },
        "id": "U1SjXysQntXp",
        "outputId": "2be259be-3973-4ca2-a154-4ac579351dcb"
      },
      "execution_count": null,
      "outputs": [
        {
          "output_type": "stream",
          "name": "stdout",
          "text": [
            "{'banana', 'uva', 'limão', 'maçã', 'laranja'}\n"
          ]
        }
      ]
    },
    {
      "cell_type": "code",
      "source": [
        "#2 - Utilizando o conjunto `frutas` criado anteriormente, adicione a fruta \"morango\" ao conjunto. Lembre-se que conjuntos não permitem duplicatas, então adicione um elemento que já exista para verificar o comportamento.\n",
        "conjunto_de_frutas = {\"maçã\", \"banana\", \"laranja\", \"uva\"}\n",
        "conjunto_de_frutas.add(\"morango\")\n",
        "conjunto_de_frutas.add(\"maçâ\")\n",
        "print(conjunto_de_frutas)"
      ],
      "metadata": {
        "colab": {
          "base_uri": "https://localhost:8080/"
        },
        "id": "-EbZKaC5pGnd",
        "outputId": "6daf6e48-6154-48bc-89ac-d3545ca72871"
      },
      "execution_count": null,
      "outputs": [
        {
          "output_type": "stream",
          "name": "stdout",
          "text": [
            "{'banana', 'uva', 'maçã', 'laranja', 'maçâ', 'morango'}\n"
          ]
        }
      ]
    },
    {
      "cell_type": "code",
      "source": [
        "#3 - Remova a fruta \"banana\" do conjunto `frutas`. Se \"banana\" não estiver presente, o código pode gerar um erro. Verifique se a fruta existe antes de removê-la ou trate o erro adequadamente\n",
        "conjunto_de_frutas = {\"maçã\", \"banana\", \"laranja\", \"Uva\"}\n",
        "conjunto_de_frutas.remove(\"banana\")\n",
        "print(conjunto_de_frutas)"
      ],
      "metadata": {
        "colab": {
          "base_uri": "https://localhost:8080/"
        },
        "id": "sZSZp2qi04XP",
        "outputId": "da942dae-e3da-4587-ead4-004c8823aeac"
      },
      "execution_count": null,
      "outputs": [
        {
          "output_type": "stream",
          "name": "stdout",
          "text": [
            "{'Uva', 'maçã', 'laranja'}\n"
          ]
        }
      ]
    },
    {
      "cell_type": "code",
      "source": [
        "#4 - Verifique se a fruta \"laranja\" está presente no conjunto `frutas` usando uma estrutura condicional. Exiba uma mensagem no console indicando se \"laranja\" está ou não presente no conjunto.\n",
        "conjunto_de_frutas = {\"maçã\", \"banana\", \"laranja\", \"Uva\"}\n",
        "if \"laranja\" in conjunto_de_frutas:\n",
        "   print(\"laranja está no conjunto\")\n",
        "else:\n",
        "    print(\"laranja não está no conjunto\")\n"
      ],
      "metadata": {
        "colab": {
          "base_uri": "https://localhost:8080/"
        },
        "id": "3DN38L5Y1Rqz",
        "outputId": "be3d0202-7057-44cc-edb1-7d97201cf29f"
      },
      "execution_count": null,
      "outputs": [
        {
          "output_type": "stream",
          "name": "stdout",
          "text": [
            "laranja está no conjunto\n"
          ]
        }
      ]
    },
    {
      "cell_type": "code",
      "source": [
        "#5Crie um segundo conjunto chamado `citrus`, contendo \"laranja\", \"limão\" e \"tangerina\". Faça a união dos conjuntos `frutas` e `citrus`, criando um novo conjunto que contém todos os elementos dos dois conjuntos. Exiba o resultado dessa união.\n",
        "\n",
        "conjunto_de_frutas = {\"maçã\", \"banana\", \"laranja\", \"Uva\"}\n",
        "conjunto_de_citrus = {\"laranja\", \"Limão\", \"tangerina\"}\n",
        "conjunto_união = conjunto_de_frutas.union(conjunto_de_citrus)\n",
        "print(conjunto_união)\n"
      ],
      "metadata": {
        "id": "KEBhY7qU2i05",
        "outputId": "72062ab7-aa1f-4f7d-8e1a-d784be40c180",
        "colab": {
          "base_uri": "https://localhost:8080/"
        }
      },
      "execution_count": 1,
      "outputs": [
        {
          "output_type": "stream",
          "name": "stdout",
          "text": [
            "{'maçã', 'tangerina', 'banana', 'laranja', 'Uva', 'Limão'}\n"
          ]
        }
      ]
    },
    {
      "cell_type": "code",
      "source": [
        "#6 Usando os conjuntos `frutas` e `citrus`, encontre a interseção entre eles, ou seja, os elementos que estão presentes em ambos os conjuntos. Exiba os elementos comuns.\n",
        "conjunto_de_frutas = {\"maçã\", \"banana\", \"laranja\", \"Uva\"}\n",
        "conjunto_de_citrus = {\"laranja\", \"Limão\", \"tangerina\"}\n",
        "conjunto_intersecção = conjunto_de_frutas.intersection(conjunto_de_citrus)\n",
        "print(conjunto_intersecção)"
      ],
      "metadata": {
        "id": "rwJOq6GXJfNC",
        "outputId": "2674d05d-9081-4292-b1f9-25b91f6302f8",
        "colab": {
          "base_uri": "https://localhost:8080/"
        }
      },
      "execution_count": 2,
      "outputs": [
        {
          "output_type": "stream",
          "name": "stdout",
          "text": [
            "{'laranja'}\n"
          ]
        }
      ]
    },
    {
      "cell_type": "code",
      "source": [
        "#7 Encontre a diferença entre os conjuntos `frutas` e `citrus`, ou seja, os elementos que estão em `frutas` mas não estão em `citrus`. Exiba o resultado dessa diferença.\n",
        "conjunto_de_frutas = {\"maçã\", \"banana\", \"laranja\", \"Uva\"}\n",
        "conjunto_de_citrus = {\"laranja\", \"Limão\", \"tangerina\"}\n",
        "conjunto_diferença = conjunto_de_frutas.difference(conjunto_de_citrus)\n",
        "print(conjunto_diferença)"
      ],
      "metadata": {
        "id": "uoIGUwyKKW1f",
        "outputId": "f52443a8-1b54-4d3c-875e-cc9f978a246e",
        "colab": {
          "base_uri": "https://localhost:8080/"
        }
      },
      "execution_count": 3,
      "outputs": [
        {
          "output_type": "stream",
          "name": "stdout",
          "text": [
            "{'maçã', 'banana', 'Uva'}\n"
          ]
        }
      ]
    },
    {
      "cell_type": "code",
      "source": [
        "#8 Esvazie completamente o conjunto `citrus` usando um método específico que remove todos os elementos de um conjunto. Verifique se o conjunto foi realmente esvaziado ao exibi-lo no console após a operação.\n",
        "conjunto_de_citrus = {\"laranja\", \"Limão\", \"tangerina\"}\n",
        "conjunto_de_citrus.clear()\n",
        "print(conjunto_de_citrus)"
      ],
      "metadata": {
        "id": "Gp9mq3-VKpTx",
        "outputId": "b3f0eec0-a55a-4eea-e030-85eefcfb1b7b",
        "colab": {
          "base_uri": "https://localhost:8080/"
        }
      },
      "execution_count": 5,
      "outputs": [
        {
          "output_type": "stream",
          "name": "stdout",
          "text": [
            "set()\n"
          ]
        }
      ]
    },
    {
      "cell_type": "code",
      "source": [
        "#9 Converta o conjunto `frutas` em um conjunto imutável, ou seja, um conjunto que não pode ser alterado após sua criação. Crie esse conjunto imutável e exiba-o no console.\n",
        "conjunto_de_frutas = {\"maçã\", \"banana\", \"laranja\", \"Uva\"}\n",
        "conjunto_imutável = frozenset(conjunto_de_frutas)\n",
        "print(conjunto_de_frutas)"
      ],
      "metadata": {
        "id": "mM8fp5HaK5WL",
        "outputId": "51b7382a-bdd7-4c01-b64e-982bbe5ccb3f",
        "colab": {
          "base_uri": "https://localhost:8080/"
        }
      },
      "execution_count": 7,
      "outputs": [
        {
          "output_type": "stream",
          "name": "stdout",
          "text": [
            "{'maçã', 'banana', 'laranja', 'Uva'}\n"
          ]
        }
      ]
    },
    {
      "cell_type": "code",
      "source": [
        "#10 Conte quantos elementos únicos existem no conjunto `frutas` e exiba o número total de elementos no console.\n",
        "conjunto_de_frutas = {\"maçã\", \"banana\", \"laranja\", \"Uva\"}\n",
        "print(len(conjunto_de_frutas))"
      ],
      "metadata": {
        "id": "FRSypn8dLXzS",
        "outputId": "76bddf55-c645-4dfd-fff5-7d9ea42af57d",
        "colab": {
          "base_uri": "https://localhost:8080/"
        }
      },
      "execution_count": 8,
      "outputs": [
        {
          "output_type": "stream",
          "name": "stdout",
          "text": [
            "4\n"
          ]
        }
      ]
    }
  ]
}