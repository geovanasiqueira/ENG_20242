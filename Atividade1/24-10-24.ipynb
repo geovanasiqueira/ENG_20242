{
  "nbformat": 4,
  "nbformat_minor": 0,
  "metadata": {
    "colab": {
      "provenance": [],
      "authorship_tag": "ABX9TyOkUhI5YMw2TNnWqHSmLtem",
      "include_colab_link": true
    },
    "kernelspec": {
      "name": "python3",
      "display_name": "Python 3"
    },
    "language_info": {
      "name": "python"
    }
  },
  "cells": [
    {
      "cell_type": "markdown",
      "metadata": {
        "id": "view-in-github",
        "colab_type": "text"
      },
      "source": [
        "<a href=\"https://colab.research.google.com/github/geovanasiqueira/ENG_20242/blob/main/24-10-24.ipynb\" target=\"_parent\"><img src=\"https://colab.research.google.com/assets/colab-badge.svg\" alt=\"Open In Colab\"/></a>"
      ]
    },
    {
      "cell_type": "code",
      "execution_count": null,
      "metadata": {
        "colab": {
          "base_uri": "https://localhost:8080/"
        },
        "id": "cNaPVEUZBuXU",
        "outputId": "e7ae5baf-1a4b-40b9-f4d9-fb7be350e1ce"
      },
      "outputs": [
        {
          "output_type": "stream",
          "name": "stdout",
          "text": [
            "2\n",
            "4\n",
            "6\n",
            "8\n",
            "10\n"
          ]
        }
      ],
      "source": [
        "#1. Crie uma lista contendo cinco números inteiros de sua escolha. Em seguida, percorra essa lista e imprima o valor de cada elemento multiplicado por 2. O resultado deve mostrar o novo valor de cada elemento, um por vez.\n",
        "lista_numeros = [1,2,3,4,5]\n",
        "for numero in lista_numeros:\n",
        "   print(numero * 2)"
      ]
    },
    {
      "cell_type": "code",
      "source": [
        "#2. Dada a lista [\"maçã\", \"banana\", \"laranja\", \"uva\"], remova o item \"banana\" da lista e adicione a fruta \"melancia\" no lugar. Depois, mostre a nova lista atualizada com as alterações feitas.\n",
        "frutas = [\"maçã\", \"banana\", \"laranja\", \"uva\"]\n",
        "frutas[frutas.index('banana')] = 'melancia'\n",
        "print(frutas)\n"
      ],
      "metadata": {
        "colab": {
          "base_uri": "https://localhost:8080/"
        },
        "id": "22j0IiEWC5l8",
        "outputId": "31037058-2dfa-4c51-fdb7-6c6df8b5478f"
      },
      "execution_count": null,
      "outputs": [
        {
          "output_type": "stream",
          "name": "stdout",
          "text": [
            "['maçã', 'melancia', 'laranja', 'uva']\n"
          ]
        }
      ]
    },
    {
      "cell_type": "code",
      "source": [
        "#3. Escreva um programa que receba uma lista de números inteiros e exiba qual é o maior número e qual é o menor número presente na lista. Certifique-se de mostrar ambos os valores ao final.\n",
        "minha_lista = {10,25,2,35,40}\n",
        "maior_valor = max(minha_lista)\n",
        "print(maior_valor)\n",
        "menor_valor = min(minha_lista)\n",
        "print(menor_valor)"
      ],
      "metadata": {
        "colab": {
          "base_uri": "https://localhost:8080/"
        },
        "id": "uvjwY1OlD6CL",
        "outputId": "240b9073-2b32-4487-e476-529d39be1ee5"
      },
      "execution_count": null,
      "outputs": [
        {
          "output_type": "stream",
          "name": "stdout",
          "text": [
            "40\n",
            "2\n"
          ]
        }
      ]
    },
    {
      "cell_type": "code",
      "source": [
        "#4 Crie uma função que receba uma lista contendo várias palavras (strings). A função deve devolver uma nova lista que contenha a quantidade de letras de cada palavra da lista original. Exiba essa nova lista com o número de letras correspondente a cada palavra.\n",
        "minha_lista = [\"alice\", \"livia\", \"ana\", \"nicolly\"]\n",
        "nova_lista = []\n",
        "for palavra in minha_lista:\n",
        "   nova_lista.append(len(palavra))\n",
        "print(nova_lista)"
      ],
      "metadata": {
        "colab": {
          "base_uri": "https://localhost:8080/"
        },
        "id": "xHT74642HIfs",
        "outputId": "4853c526-fa59-4433-c8d7-d0cc290d40fd"
      },
      "execution_count": null,
      "outputs": [
        {
          "output_type": "stream",
          "name": "stdout",
          "text": [
            "[5, 5, 3, 7]\n"
          ]
        }
      ]
    },
    {
      "cell_type": "code",
      "source": [
        "#5 Dada uma lista de números inteiros que você vai definir, ordene essa lista em ordem crescente e depois exiba o resultado da lista ordenada.\n",
        "minha_lista = {7,21,9,15,98,6}\n",
        "nova_lista = sorted(minha_lista)\n",
        "print(nova_lista)"
      ],
      "metadata": {
        "colab": {
          "base_uri": "https://localhost:8080/"
        },
        "id": "kAZeaSqgHzU5",
        "outputId": "b082c95d-34a0-4f93-af41-f95d61ad1148"
      },
      "execution_count": null,
      "outputs": [
        {
          "output_type": "stream",
          "name": "stdout",
          "text": [
            "[6, 7, 9, 15, 21, 98]\n"
          ]
        }
      ]
    },
    {
      "cell_type": "code",
      "source": [
        "#6 Crie uma tupla que contenha os números de 1 a 5. Tente alterar o valor do segundo elemento dessa tupla e observe o que acontece. No final, explique por que você conseguiu ou não modificar o valor.\n",
        "meus_numeros = (1,2,3,4,5)\n",
        "print(meus_numeros[1])\n",
        "meus_numeros[2] = 8"
      ],
      "metadata": {
        "colab": {
          "base_uri": "https://localhost:8080/",
          "height": 193
        },
        "id": "jJAGi8YOJesA",
        "outputId": "7a688a40-58c9-45ca-ffcc-84c6b7bae077"
      },
      "execution_count": null,
      "outputs": [
        {
          "output_type": "stream",
          "name": "stdout",
          "text": [
            "2\n"
          ]
        },
        {
          "output_type": "error",
          "ename": "TypeError",
          "evalue": "'tuple' object does not support item assignment",
          "traceback": [
            "\u001b[0;31m---------------------------------------------------------------------------\u001b[0m",
            "\u001b[0;31mTypeError\u001b[0m                                 Traceback (most recent call last)",
            "\u001b[0;32m<ipython-input-43-4b56029fb416>\u001b[0m in \u001b[0;36m<cell line: 4>\u001b[0;34m()\u001b[0m\n\u001b[1;32m      2\u001b[0m \u001b[0mmeus_numeros\u001b[0m \u001b[0;34m=\u001b[0m \u001b[0;34m(\u001b[0m\u001b[0;36m1\u001b[0m\u001b[0;34m,\u001b[0m\u001b[0;36m2\u001b[0m\u001b[0;34m,\u001b[0m\u001b[0;36m3\u001b[0m\u001b[0;34m,\u001b[0m\u001b[0;36m4\u001b[0m\u001b[0;34m,\u001b[0m\u001b[0;36m5\u001b[0m\u001b[0;34m)\u001b[0m\u001b[0;34m\u001b[0m\u001b[0;34m\u001b[0m\u001b[0m\n\u001b[1;32m      3\u001b[0m \u001b[0mprint\u001b[0m\u001b[0;34m(\u001b[0m\u001b[0mmeus_numeros\u001b[0m\u001b[0;34m[\u001b[0m\u001b[0;36m1\u001b[0m\u001b[0;34m]\u001b[0m\u001b[0;34m)\u001b[0m\u001b[0;34m\u001b[0m\u001b[0;34m\u001b[0m\u001b[0m\n\u001b[0;32m----> 4\u001b[0;31m \u001b[0mmeus_numeros\u001b[0m\u001b[0;34m[\u001b[0m\u001b[0;36m2\u001b[0m\u001b[0;34m]\u001b[0m \u001b[0;34m=\u001b[0m \u001b[0;36m8\u001b[0m\u001b[0;34m\u001b[0m\u001b[0;34m\u001b[0m\u001b[0m\n\u001b[0m",
            "\u001b[0;31mTypeError\u001b[0m: 'tuple' object does not support item assignment"
          ]
        }
      ]
    },
    {
      "cell_type": "code",
      "source": [
        "#7Escreva um programa que receba uma tupla contendo diversos números inteiros. O programa deve calcular e exibir a soma de todos os números presentes na tupla.\n",
        "numeros_tupla = (5,9,15,20)\n",
        "soma = sum(numeros_tupla)\n",
        "print(soma)\n"
      ],
      "metadata": {
        "colab": {
          "base_uri": "https://localhost:8080/"
        },
        "id": "GD6EOpclL72B",
        "outputId": "6dac5666-c6bc-4773-bc39-caeb1804bd4c"
      },
      "execution_count": null,
      "outputs": [
        {
          "output_type": "stream",
          "name": "stdout",
          "text": [
            "49\n"
          ]
        }
      ]
    },
    {
      "cell_type": "code",
      "source": [
        "#8 Dada uma tupla que contém cinco números, crie uma função que retorne o primeiro e o último número dessa tupla. O programa deve imprimir ambos os valores corretamente.\n",
        "numeros_tupla = (2,3,4,5)\n",
        "primeiro_numero = numeros_tuplas[0]\n",
        "ultimo_numero = numeros_tuplas[-1]\n",
        "print(primeiro_numero)\n",
        "print(ultimo_numero)\n"
      ],
      "metadata": {
        "colab": {
          "base_uri": "https://localhost:8080/"
        },
        "id": "lBpv2VzZQVpH",
        "outputId": "06f2b48e-b434-409d-883f-8723cca51c1a"
      },
      "execution_count": null,
      "outputs": [
        {
          "output_type": "stream",
          "name": "stdout",
          "text": [
            "5\n",
            "6\n"
          ]
        }
      ]
    },
    {
      "cell_type": "code",
      "source": [
        "#9 Converta a lista [\"a\", \"b\", \"c\", \"d\"] em uma tupla e, em seguida, exiba o tipo do novo objeto que foi criado. O programa deve deixar claro que o tipo mudou de lista para tupla.\n",
        "minha_lista = (\"a\", \"b\", \"c\", \"d\")\n",
        "minha_tupla = tuple(minha_lista)\n",
        "print(type(minha_tupla))"
      ],
      "metadata": {
        "colab": {
          "base_uri": "https://localhost:8080/"
        },
        "id": "LQ28_YFzPjvF",
        "outputId": "8c51ea56-1247-4589-dcc7-804d328cef38"
      },
      "execution_count": null,
      "outputs": [
        {
          "output_type": "stream",
          "name": "stdout",
          "text": [
            "<class 'tuple'>\n"
          ]
        }
      ]
    },
    {
      "cell_type": "code",
      "source": [
        " #10 Crie uma tupla com três números inteiros e uma string. Depois, verifique se o número 3 está presente nessa tupla e mostre uma mensagem dizendo se o número foi encontrado ou não.\n",
        "minha_tupla = (1,2,3)\n",
        "if 3 in minha_tupla:\n",
        "   print(\"O numero 3 foi encontrado\")\n",
        "else:\n",
        "   print(\"o numero 3 não foi encontrado\")\n"
      ],
      "metadata": {
        "colab": {
          "base_uri": "https://localhost:8080/"
        },
        "id": "huORT42xQ9uW",
        "outputId": "cf34fd57-6c03-451d-a771-a97dc55f5c77"
      },
      "execution_count": null,
      "outputs": [
        {
          "output_type": "stream",
          "name": "stdout",
          "text": [
            "O numero 3 foi encontrado\n"
          ]
        }
      ]
    },
    {
      "cell_type": "code",
      "source": [
        " #11Crie dois sets: set1 = {1, 2, 3, 4} e set2 = {3, 4, 5, 6}. Exiba a união dos dois sets (todos os elementos sem repetição), a interseção (elementos que aparecem nos dois sets) e a diferença (elementos presentes no primeiro set, mas não no segundo). Mostre os resultados de cada operação.\n",
        " set1 = {1, 2, 3, 4}\n",
        " set2 = {3, 4, 5, 6}\n",
        "uniao = set1.union(set2)\n",
        "print(uniao)\n",
        "intersecao = set1.intersection(set2)\n",
        "print(intersecao)\n",
        "diferenca = set1.difference(set2)\n",
        "print(diferenca)\n",
        "\n"
      ],
      "metadata": {
        "colab": {
          "base_uri": "https://localhost:8080/"
        },
        "id": "xwbH--7xloKt",
        "outputId": "a254f3a6-a258-464f-ec52-98b143288a4e"
      },
      "execution_count": null,
      "outputs": [
        {
          "output_type": "stream",
          "name": "stdout",
          "text": [
            "{1, 2, 3, 4, 5, 6}\n",
            "{3, 4}\n",
            "{1, 2}\n"
          ]
        }
      ]
    },
    {
      "cell_type": "code",
      "source": [
        "#12. Dada a lista [1, 2, 2, 3, 4, 4, 5], remova os elementos duplicados transformando a lista em um set. Ao final, exiba o set resultante, que deve conter apenas valores únicos.\n",
        "lista = [1, 2, 2, 3, 4, 4, 5]\n",
        "sem_duplicadas = set(lista)\n",
        "print(sem_duplicadas)\n"
      ],
      "metadata": {
        "colab": {
          "base_uri": "https://localhost:8080/"
        },
        "id": "eWRv4BDAqWds",
        "outputId": "4b9439c3-200a-4446-ec47-d5168991d213"
      },
      "execution_count": null,
      "outputs": [
        {
          "output_type": "stream",
          "name": "stdout",
          "text": [
            "{1, 2, 3, 4, 5}\n"
          ]
        }
      ]
    },
    {
      "cell_type": "code",
      "source": [
        "#13Crie um set contendo os valores {5, 10, 15, 20}. Adicione o número 25 a esse set e depois remova o valor 15. Mostre o set após cada alteração.\n",
        "um_set = {5, 10, 15, 20}\n",
        "um_set.add(25)\n",
        "print(um_set)\n",
        "um_set.remove(15)\n",
        "print(um_set)"
      ],
      "metadata": {
        "colab": {
          "base_uri": "https://localhost:8080/"
        },
        "id": "1x9GTQGnq_4D",
        "outputId": "77aa52c2-82ff-41f6-b0fd-1fffbdfd759a"
      },
      "execution_count": null,
      "outputs": [
        {
          "output_type": "stream",
          "name": "stdout",
          "text": [
            "{5, 10, 15, 20, 25}\n",
            "{5, 10, 20, 25}\n"
          ]
        }
      ]
    },
    {
      "cell_type": "code",
      "source": [
        "#14Verifique se o número 7 está presente no set {1, 2, 3, 4, 5}. O programa deve exibir uma mensagem informando se o número foi encontrado ou não no set.\n",
        "um_set = {1, 2, 3, 4, 5}\n",
        "if 7 in um_set:\n",
        "   print(\"Numero 7 foi encontrado\")\n",
        "else:\n",
        "    print(\"número 7 não foi encontrado\")"
      ],
      "metadata": {
        "colab": {
          "base_uri": "https://localhost:8080/"
        },
        "id": "er9t8YOLuDoE",
        "outputId": "16ce5c23-8bea-41dc-c2ec-7d350f2ea72f"
      },
      "execution_count": null,
      "outputs": [
        {
          "output_type": "stream",
          "name": "stdout",
          "text": [
            "número 7 não foi encontrado\n"
          ]
        }
      ]
    },
    {
      "cell_type": "code",
      "source": [
        "#15 Crie um set vazio e adicione vários valores a ele usando um laço de repetição (por exemplo, um for ou while). No final, mostre todos os valores armazenados no set.\n",
        "um_set = set()\n",
        "for i in range (1,15):\n",
        "  um_set.add(i)\n",
        "  print(um_set)"
      ],
      "metadata": {
        "colab": {
          "base_uri": "https://localhost:8080/"
        },
        "id": "RZS0222dvCQL",
        "outputId": "0b29e77c-2fe6-469f-c491-2582758e93b7"
      },
      "execution_count": null,
      "outputs": [
        {
          "output_type": "stream",
          "name": "stdout",
          "text": [
            "{1}\n",
            "{1, 2}\n",
            "{1, 2, 3}\n",
            "{1, 2, 3, 4}\n",
            "{1, 2, 3, 4, 5}\n",
            "{1, 2, 3, 4, 5, 6}\n",
            "{1, 2, 3, 4, 5, 6, 7}\n",
            "{1, 2, 3, 4, 5, 6, 7, 8}\n",
            "{1, 2, 3, 4, 5, 6, 7, 8, 9}\n",
            "{1, 2, 3, 4, 5, 6, 7, 8, 9, 10}\n",
            "{1, 2, 3, 4, 5, 6, 7, 8, 9, 10, 11}\n",
            "{1, 2, 3, 4, 5, 6, 7, 8, 9, 10, 11, 12}\n",
            "{1, 2, 3, 4, 5, 6, 7, 8, 9, 10, 11, 12, 13}\n",
            "{1, 2, 3, 4, 5, 6, 7, 8, 9, 10, 11, 12, 13, 14}\n"
          ]
        }
      ]
    },
    {
      "cell_type": "code",
      "source": [
        "#16 Crie um dicionário com os pares chave-valor 'nome': 'Ana', 'idade': 22, 'curso': 'Engenharia'. Adicione uma nova chave 'universidade': 'USP' ao dicionário. Em seguida, exiba o dicionário completo com todas as informações.\n",
        "um_dicionario = {'nome': 'Ana', 'idade' : 22, 'curso': 'Engenharia'}\n",
        "um_dicionario['universidade'] = 'USP'\n",
        "print(um_dicionario)"
      ],
      "metadata": {
        "colab": {
          "base_uri": "https://localhost:8080/"
        },
        "id": "Z-_Bkh0ovfCi",
        "outputId": "da48f059-08f4-436e-88fd-bcabc1c31afe"
      },
      "execution_count": null,
      "outputs": [
        {
          "output_type": "stream",
          "name": "stdout",
          "text": [
            "{'nome': 'Ana', 'idade': 22, 'curso': 'Engenharia', 'universidade': 'USP'}\n"
          ]
        }
      ]
    },
    {
      "cell_type": "code",
      "source": [
        "# 17 Escreva um programa que percorra um dicionário com várias chaves e valores. Para cada par, imprima a chave e o valor no formato: Chave: X, Valor: Y. O dicionário pode conter qualquer informação que você preferir\n",
        "um_dicionario = {'filme' : 'enrolados' , 'ano' : '2010' }\n",
        "for chave, valor in um_dicionario.items():\n",
        "  print(f'chave: {chave}, valor: {valor}')\n",
        "\n"
      ],
      "metadata": {
        "colab": {
          "base_uri": "https://localhost:8080/"
        },
        "id": "dFFQu70vxP7-",
        "outputId": "366e3b88-6434-442f-dcf2-e5462742ea5c"
      },
      "execution_count": null,
      "outputs": [
        {
          "output_type": "stream",
          "name": "stdout",
          "text": [
            "chave: filme, valor: enrolados\n",
            "chave: ano, valor: 2010\n"
          ]
        }
      ]
    },
    {
      "cell_type": "code",
      "source": [
        "#18 Crie um dicionário que relacione nomes de alunos às suas notas. Depois, crie uma função que calcule e exiba a média das notas desses alunos com base nas informações do dicionário.\n",
        "um_dicionario = {'aluno1' : 'alberto', 'nota1' : '10' , 'aluno2' : 'antonio', 'nota2' : '5' }\n",
        "for chave, valor in um_dicionario.items():\n",
        "  print(f'chave : {chave}, valor : {valor}')"
      ],
      "metadata": {
        "colab": {
          "base_uri": "https://localhost:8080/"
        },
        "id": "bCQ-byTWybQS",
        "outputId": "4e3feff5-260c-472f-b5a9-87ea61fc534e"
      },
      "execution_count": null,
      "outputs": [
        {
          "output_type": "stream",
          "name": "stdout",
          "text": [
            "chave : aluno1, valor : alberto\n",
            "chave : nota1, valor : 10\n",
            "chave : aluno2, valor : antonio\n",
            "chave : nota2, valor : 5\n"
          ]
        }
      ]
    },
    {
      "cell_type": "code",
      "source": [
        "#19 Escreva um programa que permita ao usuário buscar o valor de uma chave específica em um dicionário. Caso a chave não exista, o programa deve exibir uma mensagem dizendo que a chave não foi encontrada. Teste o programa com diferentes chaves.\n",
        "alunos = {'maria': [10,8,7], 'ana' : [5,8,7]}\n",
        "busca = input(\"digite o nome do aluno\")\n",
        "if busca in alunos:\n",
        "  print(alunos[busca])\n",
        "\n",
        "else:\n",
        "  print(\"aluno não encontrado\")\n"
      ],
      "metadata": {
        "colab": {
          "base_uri": "https://localhost:8080/"
        },
        "id": "l-uTfY0zzYxh",
        "outputId": "1379c2a5-5c38-4b60-9e4c-c5889285e29a"
      },
      "execution_count": null,
      "outputs": [
        {
          "output_type": "stream",
          "name": "stdout",
          "text": [
            "digite o nome do alunomaria\n",
            "[10, 8, 7]\n"
          ]
        }
      ]
    },
    {
      "cell_type": "code",
      "source": [
        "#20 Dado um dicionário que contém produtos e seus respectivos preços, como {'pão': 2.50, 'leite': 3.00, 'café': 4.50}, permita que o usuário altere o preço de um dos produtos e exiba o dicionário atualizado com o novo valor.\n",
        "um_dicionario = {'pão' : 2.50, 'leite': 3.00, 'café': 4.50}\n",
        "alteração = input('qual ira alterar?')\n",
        "novo_valor = float(input('qual novo valor?'))\n",
        "um_dicionario[alteração] = novo_valor\n",
        "print(um_dicionario)"
      ],
      "metadata": {
        "colab": {
          "base_uri": "https://localhost:8080/"
        },
        "id": "9sOZPBBo071e",
        "outputId": "b6458082-9d43-4182-ff54-85895342ba2f"
      },
      "execution_count": 2,
      "outputs": [
        {
          "output_type": "stream",
          "name": "stdout",
          "text": [
            "qual ira alterar?pão\n",
            "qual novo valor?5\n",
            "{'pão': 5.0, 'leite': 3.0, 'café': 4.5}\n"
          ]
        }
      ]
    }
  ]
}
