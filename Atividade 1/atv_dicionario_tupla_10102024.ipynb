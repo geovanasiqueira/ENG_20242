{
  "nbformat": 4,
  "nbformat_minor": 0,
  "metadata": {
    "colab": {
      "provenance": [],
      "authorship_tag": "ABX9TyOzXpwm4iPNWvBzGGrjeyN4",
      "include_colab_link": true
    },
    "kernelspec": {
      "name": "python3",
      "display_name": "Python 3"
    },
    "language_info": {
      "name": "python"
    }
  },
  "cells": [
    {
      "cell_type": "markdown",
      "metadata": {
        "id": "view-in-github",
        "colab_type": "text"
      },
      "source": [
        "<a href=\"https://colab.research.google.com/github/geovanasiqueira/ENG_20242/blob/main/Atividade%201%5Catv_dicionario_tupla_10102024.ipynb\" target=\"_parent\"><img src=\"https://colab.research.google.com/assets/colab-badge.svg\" alt=\"Open In Colab\"/></a>"
      ]
    },
    {
      "cell_type": "code",
      "execution_count": 3,
      "metadata": {
        "colab": {
          "base_uri": "https://localhost:8080/"
        },
        "id": "P5jDPQHzM8-L",
        "outputId": "1f8a86ff-6719-434d-e71b-fe559d35a743"
      },
      "outputs": [
        {
          "output_type": "stream",
          "name": "stdout",
          "text": [
            "cariacica\n"
          ]
        }
      ],
      "source": [
        "#1 Crie uma tupla chamada cidades que contenha os nomes de cinco cidades. Imprima a terceira cidade.\n",
        "tupla = ('vitória', 'vila velha', 'cariacica', 'guarapari', 'serra' )\n",
        "print(tupla[2])\n"
      ]
    },
    {
      "cell_type": "code",
      "source": [
        "#2 Crie uma tupla chamada numeros com os seguintes valores: (1, 2, 3, 1, 4, 1). Utilize o método count() para contar quantas vezes o número 1 aparece na tupla.\n",
        "numeros = (1, 2, 3, 1, 4, 1)\n",
        "contagem = numeros.count(1)\n",
        "print(contagem)\n"
      ],
      "metadata": {
        "colab": {
          "base_uri": "https://localhost:8080/"
        },
        "id": "m4gmnWjJN31l",
        "outputId": "9808b562-346f-4b24-c2a1-3705c5a8ea6c"
      },
      "execution_count": 7,
      "outputs": [
        {
          "output_type": "stream",
          "name": "stdout",
          "text": [
            "3\n"
          ]
        }
      ]
    },
    {
      "cell_type": "markdown",
      "source": [],
      "metadata": {
        "id": "ZvLxxkuARoXx"
      }
    },
    {
      "cell_type": "code",
      "source": [
        "#3 Crie uma tupla chamada animais com os seguintes valores: ('cachorro', 'gato', 'pássaro'). Verifique se 'gato' está na tupla e imprima uma mensagem informando o resultado.\n",
        "animais = ('cachorro', 'gato', 'pássaro')\n",
        "if 'gato' in animais :\n",
        "  print('gato está na tupla')\n",
        "else:\n",
        "  print('gato não está na tupla')"
      ],
      "metadata": {
        "colab": {
          "base_uri": "https://localhost:8080/"
        },
        "id": "yqtEy2mEOeU6",
        "outputId": "32d43e5f-7f88-4608-f00e-e396eb4df2b0"
      },
      "execution_count": 8,
      "outputs": [
        {
          "output_type": "stream",
          "name": "stdout",
          "text": [
            "gato está na tupla\n"
          ]
        }
      ]
    },
    {
      "cell_type": "code",
      "source": [
        "#4 Dada a tupla meses = ('janeiro', 'fevereiro', 'março', 'abril', 'maio'), encontre e imprima o índice do mês 'abril'.\n",
        "meses = ('janeiro', 'fevereiro', 'março', 'abril', 'maio')\n",
        "print(meses[3])\n"
      ],
      "metadata": {
        "colab": {
          "base_uri": "https://localhost:8080/"
        },
        "id": "qG-aaj2WOvnK",
        "outputId": "e3dedb84-f3d1-4a2f-c602-e70e6fa4fc58"
      },
      "execution_count": 11,
      "outputs": [
        {
          "output_type": "stream",
          "name": "stdout",
          "text": [
            "abril\n"
          ]
        }
      ]
    },
    {
      "cell_type": "code",
      "source": [
        "#5 Crie uma tupla chamada coordenadas que armazene a latitude e longitude de um local (ex: (-23.5505, -46.6333)). Imprima a latitude e a longitude separadamente.\n",
        "coordenadas = (-23.5505, -46.6333)\n",
        "print(coordenadas[0])\n",
        "print(coordenadas[1])"
      ],
      "metadata": {
        "colab": {
          "base_uri": "https://localhost:8080/"
        },
        "id": "ThX0gL37PWsS",
        "outputId": "a9149213-92f8-4b2f-83fc-47bea05c9d28"
      },
      "execution_count": 12,
      "outputs": [
        {
          "output_type": "stream",
          "name": "stdout",
          "text": [
            "-23.5505\n",
            "-46.6333\n"
          ]
        }
      ]
    },
    {
      "cell_type": "code",
      "source": [
        "#6 Crie um dicionário chamado carro com as chaves marca, modelo e ano. Atribua valores de sua escolha e imprima o modelo do carro.\n",
        "carro = {'marca': 'mitsubishi' , 'modelo': 'lancer', 'ano': '2024'}\n",
        "print(carro['modelo'])"
      ],
      "metadata": {
        "colab": {
          "base_uri": "https://localhost:8080/"
        },
        "id": "6DdLmLbPPlAq",
        "outputId": "ebb2ded8-0c27-4dfb-fbca-7b6dd5261b3b"
      },
      "execution_count": 13,
      "outputs": [
        {
          "output_type": "stream",
          "name": "stdout",
          "text": [
            "lancer\n"
          ]
        }
      ]
    },
    {
      "cell_type": "code",
      "source": [
        "#7 Use o dicionário carro que você criou no exercício anterior. Adicione uma nova chave chamada cor e atribua uma cor ao carro. Em seguida, imprima o dicionário completo.\n",
        "carro['cor'] = 'preto'\n",
        "print(carro)"
      ],
      "metadata": {
        "colab": {
          "base_uri": "https://localhost:8080/"
        },
        "id": "c_1-Pl-eQGqC",
        "outputId": "add818da-fba9-4d6b-f786-6cfa5bd0b74c"
      },
      "execution_count": 14,
      "outputs": [
        {
          "output_type": "stream",
          "name": "stdout",
          "text": [
            "{'marca': 'mitsubishi', 'modelo': 'lancer', 'ano': '2024', 'cor': 'preto'}\n"
          ]
        }
      ]
    },
    {
      "cell_type": "code",
      "source": [
        " #8 Dado o dicionário pessoa = {'nome': 'João', 'idade': 30, 'cidade': 'São Paulo'}, remova a chave idade e imprima o dicionário resultante.\n",
        "pessoa = {'nome': 'João', 'idade': 30, 'cidade': 'São Paulo'}\n",
        "pessoa.pop('idade')\n",
        "print(pessoa)"
      ],
      "metadata": {
        "colab": {
          "base_uri": "https://localhost:8080/"
        },
        "id": "ZuCy3FT5QRVw",
        "outputId": "22618af4-a377-433f-e50d-8b34cf4392f3"
      },
      "execution_count": 15,
      "outputs": [
        {
          "output_type": "stream",
          "name": "stdout",
          "text": [
            "{'nome': 'João', 'cidade': 'São Paulo'}\n"
          ]
        }
      ]
    },
    {
      "cell_type": "code",
      "source": [
        "#9 Crie um dicionário chamado produto que contenha nome, preco e quantidade. Use um loop for para imprimir todos os pares chave/valor.\n",
        "produto = {'nome': 'macarrão', 'preço': '4,00', 'quantidade': '5'}\n",
        "for chave, valor in produto.items():\n",
        "  print(f'{chave}: {valor}' )"
      ],
      "metadata": {
        "colab": {
          "base_uri": "https://localhost:8080/"
        },
        "id": "XE8cwqu0QmWh",
        "outputId": "0f92c4ec-8280-4d69-89da-b7d57cc0f4e1"
      },
      "execution_count": 16,
      "outputs": [
        {
          "output_type": "stream",
          "name": "stdout",
          "text": [
            "nome: macarrão\n",
            "preço: 4,00\n",
            "quantidade: 5\n"
          ]
        }
      ]
    },
    {
      "cell_type": "code",
      "source": [
        "#10 Dado o dicionário estudante = {'nome': 'Maria', 'curso': 'Biologia', 'ano': 2}, verifique se a chave curso existe. Se existir, imprima \"A estudante está no curso de Biologia.\"\n",
        "dicionário_estudante = {'nome': 'Maria', 'curso': 'Biologia', 'ano': 2}\n",
        "if 'curso' in dicionário_estudante:\n",
        "  print(' a estudante esta no curso de biologia')\n",
        "\n"
      ],
      "metadata": {
        "colab": {
          "base_uri": "https://localhost:8080/"
        },
        "id": "0ocMsKGPRMDN",
        "outputId": "68bc40c4-a9d3-4c26-ac4d-e7fb85e1db09"
      },
      "execution_count": 17,
      "outputs": [
        {
          "output_type": "stream",
          "name": "stdout",
          "text": [
            " a estudante esta no curso de biologia\n"
          ]
        }
      ]
    }
  ]
}
